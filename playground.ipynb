{
 "cells": [
  {
   "metadata": {
    "collapsed": true,
    "ExecuteTime": {
     "end_time": "2025-02-20T23:51:59.455261Z",
     "start_time": "2025-02-20T23:51:57.943055Z"
    }
   },
   "cell_type": "code",
   "source": [
    "import os\n",
    "os.environ['TRITON_DEBUG'] = '1'\n",
    "os.environ['TRITON_INTERPRET'] = '1'\n",
    "import triton\n",
    "import triton.language as tl\n",
    "import torch\n",
    "\n",
    "@triton.jit\n",
    "def blockwise_multiply_kernel(A_ptr, out_ptr, B: tl.constexpr):\n",
    "    # Each kernel instance processes one block of A.\n",
    "    pid = tl.program_id(0)\n",
    "    block_start = 0\n",
    "    offsets = block_start + tl.arange(0, 2)\n",
    "\n",
    "    # Load the 32-element block from A.\n",
    "    A = tl.load(A_ptr + tl.arange(0, 2))\n",
    "\n",
    "    # Load the corresponding element from B.\n",
    "\n",
    "    # tl.device_print(a_vals2.shape)\n",
    "    B = tl.load(B_ptr + tl.arange(0,2))\n",
    "\n",
    "    # Multiply the block by the scale factor.\n",
    "    result = A + B\n",
    "\n",
    "    # Store the results.\n",
    "    tl.store(out_ptr + tl.arange(0, 2), result)\n",
    "\n",
    "def multiply_blocks(A, B):\n",
    "    \"\"\"\n",
    "    A: torch tensor of shape [8192]\n",
    "    B: torch tensor of shape [256]\n",
    "    Returns:\n",
    "      out: torch tensor of shape [8192] where each block of 32 elements\n",
    "           from A is multiplied by the corresponding element of B.\n",
    "    \"\"\"\n",
    "    out = torch.empty_like(A)\n",
    "    # Each block processes 32 elements, so grid size is set to the number of blocks.\n",
    "    blockwise_multiply_kernel[(1,)](A, B, out)\n",
    "    return out\n",
    "\n",
    "# Example usage:\n",
    "A = torch.tensor([0.000298662664135918, 0.000298662664135918], device=torch.device('cuda:0'))\n",
    "B = torch.tensor([0.021757077425718307], device=torch.device('cuda:0'))\n",
    "out = multiply_blocks(A, B)\n",
    "print(out)\n"
   ],
   "id": "initial_id",
   "outputs": [
    {
     "name": "stdout",
     "output_type": "stream",
     "text": [
      "tensor([0.0221, 0.0221], device='cuda:0')\n"
     ]
    }
   ],
   "execution_count": 3
  },
  {
   "metadata": {
    "ExecuteTime": {
     "end_time": "2025-02-20T23:52:12.667505Z",
     "start_time": "2025-02-20T23:52:12.661436Z"
    }
   },
   "cell_type": "code",
   "source": "out[0].item()",
   "id": "d4beeb397f25832",
   "outputs": [
    {
     "data": {
      "text/plain": [
       "0.022055739536881447"
      ]
     },
     "execution_count": 4,
     "metadata": {},
     "output_type": "execute_result"
    }
   ],
   "execution_count": 4
  },
  {
   "metadata": {
    "ExecuteTime": {
     "end_time": "2025-02-20T23:52:29.033230Z",
     "start_time": "2025-02-20T23:52:29.028175Z"
    }
   },
   "cell_type": "code",
   "source": "(A + B)[0].item()",
   "id": "b25ef363ed022313",
   "outputs": [
    {
     "data": {
      "text/plain": [
       "0.022055739536881447"
      ]
     },
     "execution_count": 6,
     "metadata": {},
     "output_type": "execute_result"
    }
   ],
   "execution_count": 6
  },
  {
   "metadata": {
    "ExecuteTime": {
     "end_time": "2025-02-20T21:10:05.587218Z",
     "start_time": "2025-02-20T21:10:05.582822Z"
    }
   },
   "cell_type": "code",
   "source": "print((A.reshape(2, 4).T*B).T.reshape(8))",
   "id": "3d413900a84286f4",
   "outputs": [
    {
     "name": "stdout",
     "output_type": "stream",
     "text": [
      "tensor([ 0.,  1.,  2.,  3.,  8., 10., 12., 14.], device='cuda:0')\n"
     ]
    }
   ],
   "execution_count": 59
  },
  {
   "metadata": {
    "ExecuteTime": {
     "end_time": "2025-02-20T21:08:28.510057Z",
     "start_time": "2025-02-20T21:08:28.505238Z"
    }
   },
   "cell_type": "code",
   "source": "A",
   "id": "fbbe42b2dae6680",
   "outputs": [
    {
     "data": {
      "text/plain": [
       "tensor([0., 1., 2., 3., 4., 5., 6., 7.], device='cuda:0')"
      ]
     },
     "execution_count": 47,
     "metadata": {},
     "output_type": "execute_result"
    }
   ],
   "execution_count": 47
  },
  {
   "metadata": {
    "ExecuteTime": {
     "end_time": "2025-02-20T22:38:43.497996Z",
     "start_time": "2025-02-20T22:38:42.308430Z"
    }
   },
   "cell_type": "code",
   "source": [
    "for i in range(262144):\n",
    "    for j in range(32):\n",
    "        if ((i*j+ j)== 6558820):\n",
    "            print(i, j)"
   ],
   "id": "fb5ff9c91a22eb24",
   "outputs": [],
   "execution_count": 1
  },
  {
   "metadata": {
    "ExecuteTime": {
     "end_time": "2025-02-20T22:38:56.440093Z",
     "start_time": "2025-02-20T22:38:56.424691Z"
    }
   },
   "cell_type": "code",
   "source": "262144 * 32",
   "id": "5f0eddf352ff6aff",
   "outputs": [
    {
     "data": {
      "text/plain": [
       "8388608"
      ]
     },
     "execution_count": 2,
     "metadata": {},
     "output_type": "execute_result"
    }
   ],
   "execution_count": 2
  },
  {
   "metadata": {},
   "cell_type": "code",
   "outputs": [],
   "execution_count": null,
   "source": [
    "offset = 0.021757077425718307 # Torch.float32\n",
    "value = 0.000298662664135918 # Torch.float32"
   ],
   "id": "ca2039b771e9806"
  },
  {
   "metadata": {
    "ExecuteTime": {
     "end_time": "2025-02-21T00:20:39.094508Z",
     "start_time": "2025-02-21T00:20:39.090313Z"
    }
   },
   "cell_type": "code",
   "source": "tl.zeros((4,), dtype=tl.bfloat16)",
   "id": "c2e796cd5e82583f",
   "outputs": [
    {
     "data": {
      "text/plain": [
       "array([0, 0, 0, 0], dtype=uint16)"
      ]
     },
     "execution_count": 11,
     "metadata": {},
     "output_type": "execute_result"
    }
   ],
   "execution_count": 11
  },
  {
   "metadata": {},
   "cell_type": "code",
   "outputs": [],
   "execution_count": null,
   "source": "",
   "id": "cb2b586e16662149"
  }
 ],
 "metadata": {
  "kernelspec": {
   "display_name": "Python 3",
   "language": "python",
   "name": "python3"
  },
  "language_info": {
   "codemirror_mode": {
    "name": "ipython",
    "version": 2
   },
   "file_extension": ".py",
   "mimetype": "text/x-python",
   "name": "python",
   "nbconvert_exporter": "python",
   "pygments_lexer": "ipython2",
   "version": "2.7.6"
  }
 },
 "nbformat": 4,
 "nbformat_minor": 5
}
