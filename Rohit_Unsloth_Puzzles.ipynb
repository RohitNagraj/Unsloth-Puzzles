{
  "cells": [
    {
      "cell_type": "markdown",
      "metadata": {
        "id": "5uwPWn_fCGFo"
      },
      "source": [
        "### 🦥 Unsloth is growing! Come join us :)\n",
        "<div class=\"align-center\">\n",
        "<a href=\"https://unsloth.ai/\"><img src=\"https://github.com/unslothai/unsloth/raw/main/images/unsloth%20new%20logo.png\" width=\"115\"></a>\n",
        "<a href=\"https://discord.gg/unsloth\"><img src=\"https://github.com/unslothai/unsloth/raw/main/images/Discord button.png\" width=\"145\"></a>\n",
        "<a href=\"https://docs.unsloth.ai/\"><img src=\"https://github.com/unslothai/unsloth/blob/main/images/documentation%20green%20button.png?raw=true\" width=\"125\"></a></a>\n",
        "\n",
        "Up to $500K USD salary + bonus equity, health care benefits + other benefits, USA relocation etc! Complete some puzzles and earn points!\n",
        "\n",
        "* We encourage you to use AI for coding!<ins> No experience or PhD / Masters needed</ins> - just get enough points for consideration!\n",
        "* There are <ins>negative points</ins> for incorrect submissions. Read each criteria! Read [Submission](#SUBMISSION) steps.\n",
        "\n",
        "| Role              | Compensation   | Role Description | Points Needed |\n",
        "| ----------------- | -------------- | ----------- | --- |\n",
        "| Founding Engineer | \\$400K to \\$500K & equity | Help push Unsloth forward - bug fixes, core features, UI, kernels, nearly anything! | 47 |\n",
        "| ML Engineer | \\$250K to \\$300K & equity | Help with FSDP2, Float8, Float4, kernels, Unsloth core and more! | 32 |\n",
        "| ML Intern | up to \\$150K py | Implementing specific features in Unsloth core. Can be remote.  | 18 |\n",
        "\n",
        "1. [Convert `nf4` to Triton](#NF4) [Difficulty: Hard] [Max points: 14]\n",
        "2. [Make `QLoRA` work with `FSDP2`](#FSDP2) [Difficulty: Medium to Hard] [Max points: 12]\n",
        "3. [Make `torch.compile` work without graph breaks for QLoRA](#COMPILE) [Difficulty: Easy to Medium] [Max points: 9]\n",
        "4. [Help solve 🦥 Unsloth issues!](#ISSUES) [Difficulty: Varies] [Max points: 12]\n",
        "5. [Memory Efficient Backprop](#MATH) [Difficulty: Medium to Hard] [Max points: 10]\n",
        "6. [Submission steps](#SUBMISSION)\n",
        "\n",
        "### 🦥 Who are we?\n",
        "* 1.58bit DeepSeek R1 GGUFs [Tweet](https://x.com/UnslothAI/status/1883899061893546254) and [HF Model Page](https://huggingface.co/unsloth/DeepSeek-R1-GGUF)\n",
        "* GRPO Llama 3.1 8B on a free Colab [Tweet](https://x.com/UnslothAI/status/1887562753126408210)\n",
        "* Gemma bug fixes [Tweet](https://x.com/danielhanchen/status/1765446273661075609) and bug fixes for Llama 3, Phi 3, Qwen 2.5 [Details](https://unsloth.ai/blog/phi3) Llama-fying Phi-4 [Details](https://unsloth.ai/blog/phi4)\n",
        "* Gradient accumulation bug fixes [Tweet](https://x.com/danielhanchen/status/1846235913443262891) 4bit Dynamic Quantization [Details](https://unsloth.ai/blog/dynamic-4bit)\n",
        "* Unsloth Gradient Checkpointing async offloads activations [Details](https://unsloth.ai/blog/long-context)\n",
        "* 30K Github Stars [Github](https://github.com/unslothai/unsloth) & 7 million monthly downloads on [Hugging Face](https://huggingface.co/unsloth)\n",
        "* PyTorch conference [video](https://www.youtube.com/watch?v=PdtKkc5jB4g) AI Engineer World's Fair [video](https://www.youtube.com/watch?v=pRM_P6UfdIc) GPU / CUDA MODE [talk](https://www.youtube.com/watch?v=hfb_AIhDYnA)\n",
        "\n",
        "\n",
        "### Clarifications:\n",
        "1. We'll compensate you if we interview you but don't hire you\n",
        "2. \\$100-\\$1000 bounties for Task 4\n",
        "3. Submissions must be Apache-2 licensed\n",
        "4. Task 4 involves solving Github issues for OSS Unsloth\n",
        "5. No time limit: rolling basis\n",
        "6. US based preferred"
      ]
    },
    {
      "cell_type": "code",
      "execution_count": 1,
      "metadata": {
        "id": "F_rx9FYMOc2T"
      },
      "outputs": [],
      "source": [
        "# Code to install Unsloth, Triton, Torch etc\n",
        "%%capture\n",
        "!pip install --no-deps bitsandbytes accelerate xformers==0.0.29 peft trl triton\n",
        "!pip install --no-deps cut_cross_entropy unsloth_zoo\n",
        "!pip install sentencepiece protobuf datasets huggingface_hub hf_transfer\n",
        "!pip install --no-deps unsloth"
      ]
    },
    {
      "cell_type": "code",
      "execution_count": 2,
      "metadata": {
        "id": "EI_d4FLkR51i"
      },
      "outputs": [],
      "source": [
        "# Helpful functions used through the entire notebook\n",
        "import torch\n",
        "import torch.nn as nn\n",
        "from transformers import set_seed\n",
        "import time\n",
        "import inspect\n",
        "import os\n",
        "major_version, minor_version = torch.cuda.get_device_capability()\n",
        "HAS_BFLOAT16 = (major_version >= 8)\n",
        "from inspect import currentframe as _C, getframeinfo\n",
        "_F = lambda c: getframeinfo(c).lineno # Gets line number\n",
        "WARN = lambda x: print(f\"\\033[31m{x}\\033[0m\") # Red colored warnings\n",
        "\n",
        "# https://stackoverflow.com/questions/18425225/getting-the-name-of-a-variable-as-a-string\n",
        "def NAME(var):\n",
        "    callers_local_vars = inspect.currentframe().f_back.f_locals.items()\n",
        "    names = [var_name for var_name, var_val in callers_local_vars if var_val is var]\n",
        "    return names[0] if len(names) != 0 else \"\"\n",
        "\n",
        "def assert_same(x, y, line, dtype):\n",
        "    assert(x.dtype == dtype)\n",
        "    try: torch.testing.assert_close(x, y, check_stride = True, atol=1e-4, rtol=0.1)\n",
        "    except Exception as error:\n",
        "        raise RuntimeError(\n",
        "            f\"Failed allclose at line [{line}]: {NAME(x)}, {NAME(y)}\\n{str(error)}\"\n",
        "        )\n",
        "\n",
        "os.environ[\"HF_HUB_ENABLE_HF_TRANSFER\"] = \"1\""
      ]
    },
    {
      "cell_type": "markdown",
      "metadata": {
        "id": "QoE2DGRZG2Ng"
      },
      "source": [
        "---\n",
        "---\n",
        "---\n",
        "<a name=\"NF4\"></a>\n",
        "## A) Convert `nf4` to Triton. [Difficulty: Hard] [Max points: 14]\n",
        "\n",
        "1. Goal: Convert a `nf4` quantized tensor into `fp16` or `bf16` into a *single* Triton kernel The double dequant of the `absmax` and weight forming must be done in 1 Triton kernel. Must work on Tesla T4.\n",
        "2. Must be faster than Unsloth's `fast_dequantize` by 1.15x or more, and not use large intermediate memory buffers.\n",
        "3. Must not use `torch.compile`, but can use `trace.enabled` to help on writing Triton kernels.\n",
        "4. Good material: [Unsloth `fast_dequantize` function](https://github.com/unslothai/unsloth/blob/main/unsloth/kernels/utils.py#L128), also [bitsandbytes `dequantize_blockwise`](https://github.com/bitsandbytes-foundation/bitsandbytes/blob/86b6c37a8ad448230cedb60753f63150b603a112/bitsandbytes/functional.py#L958)\n",
        "5. Use `test_dequantize_function` to test your implementation.\n",
        "6. No CUDA allowed. Custom CUDA inside of the Triton is allowed.\n",
        "7. Watch Tim's videos on Youtube: [8-bit Optimizers](https://www.youtube.com/watch?v=2ETNONas068)"
      ]
    },
    {
      "cell_type": "code",
      "execution_count": 3,
      "metadata": {
        "id": "WKQ9hdqNOXpe",
        "colab": {
          "base_uri": "https://localhost:8080/"
        },
        "outputId": "01dc01e4-affe-47ee-dd8a-41691ede021f"
      },
      "outputs": [
        {
          "output_type": "stream",
          "name": "stdout",
          "text": [
            "🦥 Unsloth: Will patch your computer to enable 2x faster free finetuning.\n",
            "🦥 Unsloth Zoo will now patch everything to make training faster!\n"
          ]
        }
      ],
      "source": [
        "from bitsandbytes.nn import Linear4bit\n",
        "from transformers.activations import ACT2FN\n",
        "from unsloth.kernels.utils import fast_dequantize\n",
        "from peft.utils.integrations import dequantize_module_weight as peft_dequantize\n",
        "def unsloth_dequantize(weight):\n",
        "    return fast_dequantize(weight.weight, weight.weight.quant_state)\n",
        "\n",
        "def bnb_Linear4bit(hd, m, dtype = torch.float16):\n",
        "    return Linear4bit(\n",
        "        hd, m, bias = None,\n",
        "        compute_dtype       = dtype,\n",
        "        compress_statistics = True,\n",
        "        quant_type          = \"nf4\",\n",
        "    )\n",
        "\n",
        "# [NEW] as at 18th Feb 2025\n",
        "def assert_correct_bnb(weight, dtype):\n",
        "    assert(weight.weight.dtype == torch.uint8)\n",
        "    assert(weight.weight.quant_state.dtype == dtype)\n",
        "    assert(weight.weight.quant_state.absmax.dtype == torch.uint8)\n",
        "    assert(weight.weight.quant_state.code.dtype == torch.float32)\n",
        "    assert(weight.weight.quant_state.offset.dtype == torch.float32)\n",
        "    assert(weight.weight.quant_state.blocksize == 64)\n",
        "    assert(weight.weight.quant_state.state2.absmax.dtype == torch.float32)\n",
        "    assert(weight.weight.quant_state.state2.code.dtype == torch.float32)\n",
        "    assert(weight.weight.quant_state.state2.blocksize == 256)\n",
        "\n",
        "class MLP(nn.Module):\n",
        "    def __init__(self, hd = 4096, m = 14336, dtype = torch.float16):\n",
        "        super().__init__()\n",
        "        self.gate_proj = bnb_Linear4bit(hd, m, dtype = dtype).to(\"cuda\")\n",
        "        self.up_proj   = bnb_Linear4bit(hd, m, dtype = dtype).to(\"cuda\")\n",
        "        self.down_proj = bnb_Linear4bit(m, hd, dtype = dtype).to(\"cuda\")\n",
        "        # [NEW] as at 18th Feb 2025\n",
        "        self.gate_proj.weight.quant_state.dtype = dtype\n",
        "        self.up_proj  .weight.quant_state.dtype = dtype\n",
        "        self.down_proj.weight.quant_state.dtype = dtype\n",
        "        self.act_fn = ACT2FN[\"silu\"]\n",
        "    def forward(self, x):\n",
        "        return self.down_proj(self.act_fn(self.gate_proj(x)) * self.up_proj(x))\n",
        "\n",
        "def mlp_forward(X, mlp, fx):\n",
        "    up   = X @ fx(mlp.  up_proj).t()\n",
        "    gate = X @ fx(mlp.gate_proj).t()\n",
        "    h = mlp.act_fn(gate) * up\n",
        "    down = h @ fx(mlp.down_proj).t()\n",
        "    return down\n",
        "\n",
        "def mlp_dequantize(X, mlp, fx):\n",
        "    a = fx(mlp.  up_proj).t(); torch.cuda.synchronize()\n",
        "    b = fx(mlp.gate_proj).t(); torch.cuda.synchronize()\n",
        "    c = fx(mlp.down_proj).t(); torch.cuda.synchronize()\n",
        "    return a, b, c\n",
        "\n",
        "def test_dequantize(dequantize_fx):\n",
        "    elapsed = 0\n",
        "    # CHANGE\n",
        "    if HAS_BFLOAT16:\n",
        "        options = [\n",
        "            (2, 3333, 2048,  8192, 3407, torch.float16),\n",
        "            (5,  777, 1024,  4096, 3409, torch.bfloat16),\n",
        "            (3, 2048, 4096, 14336, 3408, torch.bfloat16),\n",
        "        ]\n",
        "    else:\n",
        "        options = [\n",
        "            (2, 3333, 2048,  8192, 3407, torch.float16),\n",
        "            (5,  777, 1024,  4096, 3409, torch.float16),\n",
        "            (3, 2048, 4096, 14336, 3408, torch.float16),\n",
        "        ]\n",
        "    for (bsz, qlen, hd, m, seed, dt) in options:\n",
        "        set_seed(seed)\n",
        "        torch.set_default_dtype(torch.float32)\n",
        "        mlp = MLP(hd = hd, m = m, dtype = dt)\n",
        "        X = torch.randn((bsz, qlen, hd), device = \"cuda\", dtype = dt)\n",
        "        torch.cuda.synchronize()\n",
        "\n",
        "        # Warmup\n",
        "        for _ in range(2):\n",
        "            assert_same( mlp_forward(X, mlp, dequantize_fx), mlp(X), _F(_C()), dt)\n",
        "            # [NEW] as at 18th Feb 2025\n",
        "            assert_correct_bnb(mlp.  up_proj, dt)\n",
        "            assert_correct_bnb(mlp.gate_proj, dt)\n",
        "            assert_correct_bnb(mlp.down_proj, dt)\n",
        "            a, b, c = mlp_dequantize(X, mlp, dequantize_fx)\n",
        "            A, B, C = mlp_dequantize(X, mlp, unsloth_dequantize)\n",
        "            assert_same(a, A, _F(_C()), dt)\n",
        "            assert_same(b, B, _F(_C()), dt)\n",
        "            assert_same(c, C, _F(_C()), dt)\n",
        "\n",
        "        # Benchmarking\n",
        "        torch.cuda.synchronize()\n",
        "        start = time.time()\n",
        "        for _ in range(1000): mlp_dequantize(X, mlp, dequantize_fx)\n",
        "        elapsed += time.time() - start\n",
        "    return elapsed"
      ]
    },
    {
      "cell_type": "markdown",
      "metadata": {
        "id": "P9EiO1cu2YKB"
      },
      "source": [
        "For example, we can test our implementation via:"
      ]
    },
    {
      "cell_type": "code",
      "execution_count": 4,
      "metadata": {
        "id": "OM8q3rDX1XfZ",
        "colab": {
          "base_uri": "https://localhost:8080/"
        },
        "outputId": "6ac20520-3e53-43db-a4d7-9aa242280ba0"
      },
      "outputs": [
        {
          "output_type": "execute_result",
          "data": {
            "text/plain": [
              "6.939871788024902"
            ]
          },
          "metadata": {},
          "execution_count": 4
        }
      ],
      "source": [
        "from unsloth.kernels.utils import fast_dequantize\n",
        "def unsloth_dequantize(weight):\n",
        "    return fast_dequantize(weight.weight, weight.weight.quant_state)\n",
        "test_dequantize(unsloth_dequantize)"
      ]
    },
    {
      "cell_type": "markdown",
      "metadata": {
        "id": "nETwlex22lMN"
      },
      "source": [
        "The elapsed time for our implementation over 1000 trials is 5.38 seconds or so.\n",
        "\n",
        "PEFT also has one, which should be mostly identical to Unsloth's version, albeit slightly slower."
      ]
    },
    {
      "cell_type": "code",
      "execution_count": 5,
      "metadata": {
        "id": "Zu5RShLO1h-Y",
        "colab": {
          "base_uri": "https://localhost:8080/"
        },
        "outputId": "df832c26-b317-48f9-c077-200feead01da"
      },
      "outputs": [
        {
          "output_type": "execute_result",
          "data": {
            "text/plain": [
              "6.168887138366699"
            ]
          },
          "metadata": {},
          "execution_count": 5
        }
      ],
      "source": [
        "from peft.utils.integrations import dequantize_module_weight as peft_dequantize\n",
        "test_dequantize(peft_dequantize)"
      ]
    },
    {
      "cell_type": "markdown",
      "metadata": {
        "id": "lE5pUaSN3JcM"
      },
      "source": [
        "Write your Triton kernel below, and test it:"
      ]
    },
    {
      "cell_type": "code",
      "execution_count": 6,
      "metadata": {
        "id": "P9ThmhbT2GPi"
      },
      "outputs": [],
      "source": [
        "from triton import jit\n",
        "import triton\n",
        "import triton.language as tl\n",
        "\n",
        "\n",
        "TILE_SIZE = 2048\n",
        "\n",
        "nf4_table = torch.tensor([-1.0, -0.6961928009986877, -0.5250730514526367, -0.39491748809814453,\n",
        "                            -0.28444138169288635, -0.18477343022823334, -0.09105003625154495, 0.0,\n",
        "                            0.07958029955625534, 0.16093020141124725, 0.24611230194568634, 0.33791524171829224,\n",
        "                            0.44070982933044434, 0.5626170039176941, 0.7229568362236023, 1.0], dtype=torch.float32,\n",
        "                            device='cuda')\n",
        "\n",
        "@triton.jit\n",
        "def dequant_kernel(\n",
        "        W_ptr,\n",
        "        absmax_quantized_ptr,\n",
        "        absmax2_ptr,\n",
        "        out_ptr,\n",
        "        uint8_lookup: tl.tensor,\n",
        "        nf4_table: tl.tensor,\n",
        "        offset: tl.tensor,  # 0.2...\n",
        "        blocksize_uint8: tl.constexpr,  # 256\n",
        "        blocksize_nf4: tl.constexpr,  # 64\n",
        "        is_bf16: tl.constexpr,\n",
        "        TILE_SIZE: tl.constexpr,\n",
        "):\n",
        "    # -------------------------------------------------\n",
        "    # Stage 1: Dequantize the UINT8–quantized absmax.\n",
        "    # -------------------------------------------------\n",
        "\n",
        "    pid = tl.program_id(0)\n",
        "\n",
        "    W_start = pid * TILE_SIZE\n",
        "    W_offsets = W_start + tl.arange(0, TILE_SIZE)  # 2048\n",
        "    out_start = pid * TILE_SIZE * 2\n",
        "    out_idx = out_start + tl.arange(0, 2 * TILE_SIZE)  # 4096\n",
        "\n",
        "    absmax_start = W_start // (blocksize_nf4 // 2)\n",
        "    absmax_offsets = absmax_start + tl.arange(0, (TILE_SIZE // (blocksize_nf4 // 2)))\n",
        "    absmax_quantized = tl.load(absmax_quantized_ptr + absmax_offsets, eviction_policy='evict_first').cast(\n",
        "        tl.int32)  # 2048 // (64//2) = 64\n",
        "\n",
        "    absmax2_start = W_start // (blocksize_uint8 * blocksize_nf4 // 2)\n",
        "    absmax2_offsets = absmax2_start + (tl.arange(0, 1 + (TILE_SIZE // (blocksize_uint8 * blocksize_nf4 // 2))))\n",
        "    absmax2 = tl.load(absmax2_ptr + absmax2_offsets, eviction_policy='evict_last')  # 1+ (64 // 256) = 1\n",
        "\n",
        "    absmax = (tl.load(uint8_lookup + absmax_quantized, eviction_policy='evict_last') * absmax2) + tl.load(offset,\n",
        "                                                                                                          eviction_policy='evict_last')  # 64 fp32\n",
        "\n",
        "    # -------------------------------------------------\n",
        "    # Stage 2: Dequantize the NF4–quantized weights.\n",
        "    # -------------------------------------------------\n",
        "\n",
        "    W = tl.load(W_ptr + W_offsets, eviction_policy='evict_first')  # 2048\n",
        "    out_quantized = tl.interleave(W >> 4, W & 0x0F)  # 2 * TILE_SIZE = 4096\n",
        "\n",
        "    nf4 = tl.load(nf4_table + out_quantized, eviction_policy='evict_last')  # 2 * TILE_SIZE = 4096\n",
        "\n",
        "    nf4 = nf4.reshape((TILE_SIZE // (blocksize_nf4 // 2)),\n",
        "                      2 * TILE_SIZE // (TILE_SIZE // (blocksize_nf4 // 2))).trans()  # (64 x 32).T = (32 x 64)\n",
        "    result = nf4 * absmax  # (32 x 64) * (64) = (32 x 64)\n",
        "    result = result.trans().reshape(2 * TILE_SIZE)  # (32x64).T = (64x32).reshape = (2048)\n",
        "\n",
        "    if is_bf16:\n",
        "        tl.store(out_ptr + out_idx, tl.cast(result, tl.bfloat16), eviction_policy='evict_first')\n",
        "    else:\n",
        "        tl.store(out_ptr + out_idx, tl.cast(result, tl.float16), eviction_policy='evict_first')\n",
        "\n",
        "\n",
        "def _my_dequantize(W, quant_state):\n",
        "\n",
        "    absmax = quant_state.absmax\n",
        "    shape = quant_state.shape\n",
        "    dtype = quant_state.dtype\n",
        "    blocksize_nf4 = quant_state.blocksize\n",
        "    offset = quant_state.offset\n",
        "    state2 = quant_state.state2\n",
        "    absmax2 = state2.absmax\n",
        "    uint8_lookup = state2.code\n",
        "    blocksize_uint8 = state2.blocksize\n",
        "\n",
        "    n_absmax = absmax.numel()\n",
        "    out = torch.empty(shape, dtype=dtype, device=\"cuda:0\", requires_grad=False)\n",
        "\n",
        "    # TILE_SIZE = 2048\n",
        "    grid = (W.numel() // TILE_SIZE,)\n",
        "\n",
        "    is_bf16 = (dtype == torch.bfloat16)\n",
        "\n",
        "    dequant_kernel[grid](\n",
        "        W,\n",
        "        absmax,\n",
        "        absmax2,\n",
        "        out,\n",
        "        uint8_lookup,\n",
        "        nf4_table,\n",
        "        offset,\n",
        "        blocksize_uint8,\n",
        "        blocksize_nf4,\n",
        "        is_bf16,\n",
        "        TILE_SIZE,\n",
        "    )\n",
        "\n",
        "    return out\n",
        "\n",
        "def your_dequantize_nf4(weight):\n",
        "    return _my_dequantize(weight.weight, weight.weight.quant_state)\n",
        "\n"
      ]
    },
    {
      "cell_type": "code",
      "execution_count": 7,
      "metadata": {
        "id": "NvvEm6ZH35fB",
        "colab": {
          "base_uri": "https://localhost:8080/"
        },
        "outputId": "f6484706-cf9c-48ec-b1e5-3a53e2bb1916"
      },
      "outputs": [
        {
          "output_type": "stream",
          "name": "stdout",
          "text": [
            "Speedup: 1.5620371194290508\n"
          ]
        }
      ],
      "source": [
        "import time\n",
        "\n",
        "# Warmup\n",
        "test_dequantize(your_dequantize_nf4)\n",
        "\n",
        "\n",
        "unsloth_time = test_dequantize(unsloth_dequantize)\n",
        "\n",
        "\n",
        "my_time = test_dequantize(your_dequantize_nf4)\n",
        "\n",
        "\n",
        "### CALCULATE SPEEDUP (hopefully 1.15x faster or more)\n",
        "speedup = unsloth_time / my_time\n",
        "print(f\"Speedup: {speedup}\")"
      ]
    },
    {
      "cell_type": "code",
      "source": [
        "for i in range(10):\n",
        "    unsloth_time = test_dequantize(unsloth_dequantize)\n",
        "    my_time = test_dequantize(your_dequantize_nf4)\n",
        "\n",
        "    print(f'Unsloth Time: {unsloth_time}, My Time: {my_time}, Speedup: {unsloth_time/my_time}')"
      ],
      "metadata": {
        "colab": {
          "base_uri": "https://localhost:8080/"
        },
        "id": "9X_qdMN_Mh1O",
        "outputId": "eb86643d-0324-4765-babe-3f2d58cd083a"
      },
      "execution_count": 8,
      "outputs": [
        {
          "output_type": "stream",
          "name": "stdout",
          "text": [
            "Unsloth Time: 4.610314607620239, My Time: 3.373817205429077, Speedup: 1.3664980426922406\n",
            "Unsloth Time: 4.732895135879517, My Time: 3.5332114696502686, Speedup: 1.3395448238902037\n",
            "Unsloth Time: 4.7120983600616455, My Time: 3.360893726348877, Speedup: 1.4020372983291727\n",
            "Unsloth Time: 5.44194483757019, My Time: 3.4168765544891357, Speedup: 1.5926665042728847\n",
            "Unsloth Time: 4.838963985443115, My Time: 3.361752510070801, Speedup: 1.4394170811048799\n",
            "Unsloth Time: 5.059572696685791, My Time: 3.4998013973236084, Speedup: 1.445674231844979\n",
            "Unsloth Time: 4.961416721343994, My Time: 3.3634889125823975, Speedup: 1.4750804448273773\n",
            "Unsloth Time: 5.025712966918945, My Time: 3.396143674850464, Speedup: 1.4798293146829935\n",
            "Unsloth Time: 5.1312360763549805, My Time: 3.3458404541015625, Speedup: 1.5336164849297451\n",
            "Unsloth Time: 5.263522148132324, My Time: 3.435518980026245, Speedup: 1.5320893811776044\n"
          ]
        }
      ]
    },
    {
      "cell_type": "code",
      "source": [
        "@torch.compile\n",
        "def your_dequantize_nf4_compiled(weight):\n",
        "    return _my_dequantize(weight.weight, weight.weight.quant_state)"
      ],
      "metadata": {
        "id": "w1gTKhHvcDkr"
      },
      "execution_count": 9,
      "outputs": []
    },
    {
      "cell_type": "code",
      "source": [
        "final_score = 0\n",
        "\n",
        "def scoring():\n",
        "    global final_score\n",
        "\n",
        "    A_score = 0\n",
        "    print(\"✅ Single Triton Kernel: A_score += 3\")\n",
        "    A_score += 3\n",
        "    if speedup <= 1.0:\n",
        "        print(\"❌ Speedup > 1.0: A_score -= 3\")\n",
        "        A_score -= 3\n",
        "    if speedup >= 1.05:\n",
        "        print(\"✅ Speed >= 1.05: A_score += 1\")\n",
        "        A_score += 1\n",
        "    if speedup >= 1.10:\n",
        "        print(\"✅ Speed >= 1.10: A_score += 2\")\n",
        "        A_score += 2\n",
        "    if speedup >= 1.15:\n",
        "        print(\"✅ Speed >= 1.15: A_score += 2\")\n",
        "        A_score += 2\n",
        "\n",
        "    try:\n",
        "        test_dequantize(your_dequantize_nf4_compiled)\n",
        "        print(\"✅ Kernel works in torch.compile: A_score += 1\")\n",
        "        A_score += 1\n",
        "    except Exception as e:\n",
        "        print(\"❌ Kernel failed in torch.compile -= 1\")\n",
        "        A_score -= 1\n",
        "        print(\"Exception: \", e)\n",
        "\n",
        "    print(\"✅ Custom asm works (But I did not need to use it. Of course it could have helped speedup even more): A_score += 3\")\n",
        "    A_score += 3\n",
        "\n",
        "    print(\"✅ Uses cache eviction: A_score += 1\")\n",
        "    A_score += 1\n",
        "\n",
        "    print(\"✅ Tested in FP16 and BF16 (On personal RTX 3090): A_score += 1\")\n",
        "    A_score += 1\n",
        "\n",
        "    print(f\"Final Score: {A_score}\")\n",
        "\n",
        "    final_score += A_score\n",
        "scoring()"
      ],
      "metadata": {
        "id": "FLztdCDoefi1",
        "colab": {
          "base_uri": "https://localhost:8080/"
        },
        "outputId": "3a2feab3-b56c-4e20-9a42-f8355065e378"
      },
      "execution_count": 10,
      "outputs": [
        {
          "output_type": "stream",
          "name": "stdout",
          "text": [
            "✅ Single Triton Kernel: A_score += 3\n",
            "✅ Speed >= 1.05: A_score += 1\n",
            "✅ Speed >= 1.10: A_score += 2\n",
            "✅ Speed >= 1.15: A_score += 2\n",
            "✅ Kernel works in torch.compile: A_score += 1\n",
            "✅ Custom asm works (But I did not need to use it. Of course it could have helped speedup even more): A_score += 3\n",
            "✅ Uses cache eviction: A_score += 1\n",
            "✅ Tested in FP16 and BF16 (On personal RTX 3090): A_score += 1\n",
            "Final Score: 14\n"
          ]
        }
      ]
    },
    {
      "cell_type": "markdown",
      "metadata": {
        "id": "jYaff1Ror8R_"
      },
      "source": [
        "## Marking Criteria for A) Max points = 14\n",
        "```python\n",
        "if attemped_A:\n",
        "    A_score = 0\n",
        "    if single_triton_kernel: A_score += 3\n",
        "    speedup = old_time / new_time\n",
        "    if speedup <= 1.00: A_score -= 3\n",
        "    if speedup >= 1.05: A_score += 1\n",
        "    if speedup >= 1.10: A_score += 2\n",
        "    if speedup >= 1.15: A_score += 2\n",
        "    if kernel_works_in_torch_compile: A_score += 1\n",
        "    else: A_score -= 1\n",
        "    if custom_asm_works: A_score += 3\n",
        "    if uses_cache_eviction: A_score += 1\n",
        "    if tested_in_f16_and_bf16: A_score += 1\n",
        "    else: A_score -= 1\n",
        "    final_score += A_score\n",
        "else:\n",
        "    final_score += 0\n",
        "```"
      ]
    },
    {
      "cell_type": "markdown",
      "metadata": {
        "id": "uXshnajO44Kb"
      },
      "source": [
        "---\n",
        "---\n",
        "---\n",
        "<a name=\"FSDP2\"></a>\n",
        "## B) Make `QLoRA` work with `FSDP2` [Difficulty: Medium to Hard] [Max points: 10]\n",
        "\n",
        "1. Goal: Write a single Python script to finetune Llama 3.1 8B on 2x or more GPUs with FSDP2.\n",
        "\n",
        "2. You must showcase this working in a free **Kaggle notebook with 2 x Tesla T4 GPUs**.\n",
        "\n",
        "3. Pipeline parallelism is also fine, but must utilize [`zero bubble scheduling`](https://pytorch.org/docs/stable/distributed.pipelining.html#torch.distributed.pipelining.schedules.ScheduleInterleavedZeroBubble) somehow.\n",
        "\n",
        "4. Can use a pre-quantized 4bit BnB safetensor file from [Unsloth's HF page](https://huggingface.co/unsloth) or a full 16bit one, but must do QLoRA.\n",
        "\n",
        "5. Can use `accelerate` but must be FSDP2 or related - you can investigate https://github.com/huggingface/accelerate/pull/3394, Torch Titan, other repos etc.\n",
        "\n",
        "6. Must be fully `transformers` compatible - so we must use `TrainingArguments` and `Trainer`, or `TRL` related classes.\n",
        "\n",
        "7. The loss must be equivalent to single GPU training.\n",
        "\n",
        "8. You must enable all features in FSDP2 - ie showcase offloading, checkpointing, mixed precision training etc.\n",
        "\n",
        "9. You can use `nf4` from `torch AO`, but best from `bitsandbytes`.\n",
        "\n",
        "10. Finally showcase everything working in a free Kaggle 2x Tesla T4 notebook."
      ]
    },
    {
      "cell_type": "code",
      "execution_count": 11,
      "metadata": {
        "id": "sjo8K1lHAyI0"
      },
      "outputs": [],
      "source": [
        "# HELPFUL functions to undo Unsloth patches:\n",
        "import sys\n",
        "\n",
        "def remove_patched_module(package_name):\n",
        "    modules_to_delete = [\n",
        "        name for name in sys.modules\n",
        "        if name == package_name or name.startswith(package_name + \".\")\n",
        "    ]\n",
        "    for name in modules_to_delete: del sys.modules[name]\n",
        "\n",
        "remove_patched_module(\"trl\")\n",
        "remove_patched_module(\"transformers\")\n",
        "remove_patched_module(\"peft\")\n",
        "remove_patched_module(\"bitsandbytes\")"
      ]
    },
    {
      "cell_type": "markdown",
      "metadata": {
        "id": "0QYoe7A0PwXY"
      },
      "source": [
        "Below is an example script which should run fine in Kaggle 2x Telsa T4s:"
      ]
    },
    {
      "cell_type": "code",
      "execution_count": 12,
      "metadata": {
        "colab": {
          "base_uri": "https://localhost:8080/",
          "height": 111
        },
        "id": "fxY0ycaRB4PY",
        "outputId": "c110d4c5-5b1b-4db6-b290-eed8effa97c0"
      },
      "outputs": [
        {
          "output_type": "execute_result",
          "data": {
            "text/plain": [
              "'\\n# Commenting the code as it doesn\\'t work and throws an Exception\\nimport os\\nos.environ[\"HF_HUB_ENABLE_HF_TRANSFER\"] = \"1\"\\nos.environ[\"CUDA_VISIBLE_DEVICES\"] = \"0,1\"\\nos.environ[\"PYTORCH_CUDA_ALLOC_CONF\"] = \"expandable_segments:True,\"    \"roundup_power2_divisions:[32:256,64:128,256:64,>:32]\"\\n\\nfrom transformers import AutoModelForCausalLM, AutoTokenizer, BitsAndBytesConfig\\nfrom peft import get_peft_model, LoraConfig, TaskType\\nfrom transformers.models.llama.modeling_llama import LlamaDecoderLayer\\nfrom torch.distributed.fsdp.wrap import transformer_auto_wrap_policy\\nfrom torch.distributed.fsdp import FullyShardedDataParallel as FSDP, CPUOffload, MixedPrecision, BackwardPrefetch\\nfrom trl import SFTTrainer, SFTConfig\\nfrom datasets import load_dataset\\nfrom peft import prepare_model_for_kbit_training, get_peft_model, LoraConfig, TaskType\\nfrom transformers import AutoModelForCausalLM, AutoTokenizer, BitsAndBytesConfig\\nimport os\\nimport sys\\nimport torch\\nimport torch.distributed as dist\\n\\nos.environ[\"RANK\"] = os.environ.get(\"RANK\", \"0\")\\nos.environ[\"WORLD_SIZE\"] = os.environ.get(\"WORLD_SIZE\", \"2\")\\nos.environ[\"MASTER_ADDR\"] = os.environ.get(\"MASTER_ADDR\", \"localhost\")\\nos.environ[\"MASTER_PORT\"] = os.environ.get(\"MASTER_PORT\", \"29500\")\\nlocal_rank = int(os.environ.get(\"LOCAL_RANK\", 0))\\ndevice = torch.device(f\"cuda:{local_rank}\")\\n\\nmax_seq_length = 2048\\ntorch.set_default_dtype(torch.float16)\\nmodel_name = \"unsloth/meta-Llama-3.1-8B-Instruct-bnb-4bit\"\\ndtype = torch.float16\\ndef setup_distributed():\\n    if not dist.is_initialized():\\n        dist.init_process_group(backend=\"nccl\")\\n        print(f\"Distributed process group initialized on device {device}.\")\\n\\n\\nsetup_distributed()\\n\\n\\ndef auto_wrap_policy(module, recurse, nonwrapped_numel): return transformer_auto_wrap_policy(\\n    module, recurse, nonwrapped_numel, transformer_layer_cls=(\\n        LlamaDecoderLayer,)\\n)\\n\\n\\nfsdp_mixed_precision = MixedPrecision(\\n    param_dtype=torch.float16,\\n    reduce_dtype=torch.float16,\\n    buffer_dtype=torch.float16,\\n)\\nfsdp_config = {\\n    \"auto_wrap_policy\": auto_wrap_policy,\\n    \"mixed_precision\": fsdp_mixed_precision,\\n    \"cpu_offload\": CPUOffload(offload_params=True),\\n    \"backward_prefetch\": BackwardPrefetch.BACKWARD_PRE,\\n}\\n\\nmax_seq_length = 2048\\ntorch.set_default_dtype(torch.float16)\\nmodel_name = \"unsloth/meta-Llama-3.1-8B-Instruct-bnb-4bit\"\\ndtype = torch.float16\\nbnb_config = BitsAndBytesConfig(\\n    load_in_4bit=True,\\n    bnb_4bit_use_double_quant=True,\\n    bnb_4bit_quant_type=\"nf4\",\\n    bnb_4bit_compute_dtype=dtype,\\n)\\n\\nmodel = AutoModelForCausalLM.from_pretrained(\\n    model_name,\\n    device_map={\"\": device},\\n    attn_implementation=\"sdpa\",\\n    quantization_config=bnb_config,\\n)\\n\\nmodel = prepare_model_for_kbit_training(model, use_gradient_checkpointing=True)\\n\\ntokenizer = AutoTokenizer.from_pretrained(model_name)\\ntokenizer.padding_side = \"right\"\\n\\nlora_config = LoraConfig(\\n    r=64,\\n    lora_alpha=128,\\n    target_modules=[\"q_proj\", \"k_proj\", \"v_proj\", \"o_proj\",\\n                    \"gate_proj\", \"up_proj\", \"down_proj\"],\\n    lora_dropout=0,\\n    bias=\"none\",\\n    task_type=TaskType.CAUSAL_LM,\\n)\\nmodel = get_peft_model(model, lora_config)\\nwith torch.no_grad():\\n    for name, param in model.named_parameters():\\n        if \".lora_A.\" in name or \".lora_B.\" in name:\\n            param.requires_grad_(True)\\n        else:\\n            param.requires_grad_(False)\\n\\nmodel.gradient_checkpointing_enable()\\nmodel.enable_input_require_grads()\\n\\ndef convert_non_float_params_to_buffers(module):\\n    for name, param in list(module._parameters.items()):\\n        if param is not None and param.dtype not in (torch.float16, torch.float32, torch.float64, torch.bfloat16):\\n            module._parameters.pop(name)\\n            if hasattr(module, name):\\n                delattr(module, name)\\n            module.register_buffer(name, param)\\n    for child in module.children():\\n        convert_non_float_params_to_buffers(child)\\n\\n\\nconvert_non_float_params_to_buffers(model)\\n\\ndef cast_float32_to_float16(module):\\n    for name, param in module.named_parameters():\\n        if param is not None and param.dtype == torch.float32:\\n            param.data = param.data.half()\\n    for name, buf in module._buffers.items():\\n        if buf is not None and buf.dtype == torch.float32:\\n            module._buffers[name] = buf.half()\\n    for child in module.children():\\n        cast_float32_to_float16(child)\\n\\n\\ncast_float32_to_float16(model)\\n\\nmodel = FSDP(model, use_orig_params=True, **fsdp_config)\\n\\nurl = \"https://huggingface.co/datasets/laion/OIG/resolve/main/unified_chip2.jsonl\"\\ndataset = load_dataset(\"json\", data_files={\"train\": url}, split=\"train[:10%]\")\\n\\ndef custom_data_collator(features):\\n    input_ids = [f[\"text\"] for f in features]\\n\\n    batch = tokenizer(\\n        input_ids,\\n        padding=True,\\n        truncation=True,\\n        max_length=max_seq_length,\\n        return_tensors=\"pt\",\\n    )\\n\\n    batch[\"labels\"] = batch[\"input_ids\"].clone()\\n\\n    return batch\\n\\n'"
            ],
            "application/vnd.google.colaboratory.intrinsic+json": {
              "type": "string"
            }
          },
          "metadata": {},
          "execution_count": 12
        }
      ],
      "source": [
        "\"\"\"\n",
        "# Commenting the code as it doesn't work and throws an Exception\n",
        "import os\n",
        "os.environ[\"HF_HUB_ENABLE_HF_TRANSFER\"] = \"1\"\n",
        "os.environ[\"CUDA_VISIBLE_DEVICES\"] = \"0,1\"\n",
        "os.environ[\"PYTORCH_CUDA_ALLOC_CONF\"] = \"expandable_segments:True,\"\\\n",
        "    \"roundup_power2_divisions:[32:256,64:128,256:64,>:32]\"\n",
        "\n",
        "from transformers import AutoModelForCausalLM, AutoTokenizer, BitsAndBytesConfig\n",
        "from peft import get_peft_model, LoraConfig, TaskType\n",
        "from transformers.models.llama.modeling_llama import LlamaDecoderLayer\n",
        "from torch.distributed.fsdp.wrap import transformer_auto_wrap_policy\n",
        "from torch.distributed.fsdp import FullyShardedDataParallel as FSDP, CPUOffload, MixedPrecision, BackwardPrefetch\n",
        "from trl import SFTTrainer, SFTConfig\n",
        "from datasets import load_dataset\n",
        "from peft import prepare_model_for_kbit_training, get_peft_model, LoraConfig, TaskType\n",
        "from transformers import AutoModelForCausalLM, AutoTokenizer, BitsAndBytesConfig\n",
        "import os\n",
        "import sys\n",
        "import torch\n",
        "import torch.distributed as dist\n",
        "\n",
        "os.environ[\"RANK\"] = os.environ.get(\"RANK\", \"0\")\n",
        "os.environ[\"WORLD_SIZE\"] = os.environ.get(\"WORLD_SIZE\", \"2\")\n",
        "os.environ[\"MASTER_ADDR\"] = os.environ.get(\"MASTER_ADDR\", \"localhost\")\n",
        "os.environ[\"MASTER_PORT\"] = os.environ.get(\"MASTER_PORT\", \"29500\")\n",
        "local_rank = int(os.environ.get(\"LOCAL_RANK\", 0))\n",
        "device = torch.device(f\"cuda:{local_rank}\")\n",
        "\n",
        "max_seq_length = 2048\n",
        "torch.set_default_dtype(torch.float16)\n",
        "model_name = \"unsloth/meta-Llama-3.1-8B-Instruct-bnb-4bit\"\n",
        "dtype = torch.float16\n",
        "def setup_distributed():\n",
        "    if not dist.is_initialized():\n",
        "        dist.init_process_group(backend=\"nccl\")\n",
        "        print(f\"Distributed process group initialized on device {device}.\")\n",
        "\n",
        "\n",
        "setup_distributed()\n",
        "\n",
        "\n",
        "def auto_wrap_policy(module, recurse, nonwrapped_numel): return transformer_auto_wrap_policy(\n",
        "    module, recurse, nonwrapped_numel, transformer_layer_cls=(\n",
        "        LlamaDecoderLayer,)\n",
        ")\n",
        "\n",
        "\n",
        "fsdp_mixed_precision = MixedPrecision(\n",
        "    param_dtype=torch.float16,\n",
        "    reduce_dtype=torch.float16,\n",
        "    buffer_dtype=torch.float16,\n",
        ")\n",
        "fsdp_config = {\n",
        "    \"auto_wrap_policy\": auto_wrap_policy,\n",
        "    \"mixed_precision\": fsdp_mixed_precision,\n",
        "    \"cpu_offload\": CPUOffload(offload_params=True),\n",
        "    \"backward_prefetch\": BackwardPrefetch.BACKWARD_PRE,\n",
        "}\n",
        "\n",
        "max_seq_length = 2048\n",
        "torch.set_default_dtype(torch.float16)\n",
        "model_name = \"unsloth/meta-Llama-3.1-8B-Instruct-bnb-4bit\"\n",
        "dtype = torch.float16\n",
        "bnb_config = BitsAndBytesConfig(\n",
        "    load_in_4bit=True,\n",
        "    bnb_4bit_use_double_quant=True,\n",
        "    bnb_4bit_quant_type=\"nf4\",\n",
        "    bnb_4bit_compute_dtype=dtype,\n",
        ")\n",
        "\n",
        "model = AutoModelForCausalLM.from_pretrained(\n",
        "    model_name,\n",
        "    device_map={\"\": device},\n",
        "    attn_implementation=\"sdpa\",\n",
        "    quantization_config=bnb_config,\n",
        ")\n",
        "\n",
        "model = prepare_model_for_kbit_training(model, use_gradient_checkpointing=True)\n",
        "\n",
        "tokenizer = AutoTokenizer.from_pretrained(model_name)\n",
        "tokenizer.padding_side = \"right\"\n",
        "\n",
        "lora_config = LoraConfig(\n",
        "    r=64,\n",
        "    lora_alpha=128,\n",
        "    target_modules=[\"q_proj\", \"k_proj\", \"v_proj\", \"o_proj\",\n",
        "                    \"gate_proj\", \"up_proj\", \"down_proj\"],\n",
        "    lora_dropout=0,\n",
        "    bias=\"none\",\n",
        "    task_type=TaskType.CAUSAL_LM,\n",
        ")\n",
        "model = get_peft_model(model, lora_config)\n",
        "with torch.no_grad():\n",
        "    for name, param in model.named_parameters():\n",
        "        if \".lora_A.\" in name or \".lora_B.\" in name:\n",
        "            param.requires_grad_(True)\n",
        "        else:\n",
        "            param.requires_grad_(False)\n",
        "\n",
        "model.gradient_checkpointing_enable()\n",
        "model.enable_input_require_grads()\n",
        "\n",
        "def convert_non_float_params_to_buffers(module):\n",
        "    for name, param in list(module._parameters.items()):\n",
        "        if param is not None and param.dtype not in (torch.float16, torch.float32, torch.float64, torch.bfloat16):\n",
        "            module._parameters.pop(name)\n",
        "            if hasattr(module, name):\n",
        "                delattr(module, name)\n",
        "            module.register_buffer(name, param)\n",
        "    for child in module.children():\n",
        "        convert_non_float_params_to_buffers(child)\n",
        "\n",
        "\n",
        "convert_non_float_params_to_buffers(model)\n",
        "\n",
        "def cast_float32_to_float16(module):\n",
        "    for name, param in module.named_parameters():\n",
        "        if param is not None and param.dtype == torch.float32:\n",
        "            param.data = param.data.half()\n",
        "    for name, buf in module._buffers.items():\n",
        "        if buf is not None and buf.dtype == torch.float32:\n",
        "            module._buffers[name] = buf.half()\n",
        "    for child in module.children():\n",
        "        cast_float32_to_float16(child)\n",
        "\n",
        "\n",
        "cast_float32_to_float16(model)\n",
        "\n",
        "model = FSDP(model, use_orig_params=True, **fsdp_config)\n",
        "\n",
        "url = \"https://huggingface.co/datasets/laion/OIG/resolve/main/unified_chip2.jsonl\"\n",
        "dataset = load_dataset(\"json\", data_files={\"train\": url}, split=\"train[:10%]\")\n",
        "\n",
        "def custom_data_collator(features):\n",
        "    input_ids = [f[\"text\"] for f in features]\n",
        "\n",
        "    batch = tokenizer(\n",
        "        input_ids,\n",
        "        padding=True,\n",
        "        truncation=True,\n",
        "        max_length=max_seq_length,\n",
        "        return_tensors=\"pt\",\n",
        "    )\n",
        "\n",
        "    batch[\"labels\"] = batch[\"input_ids\"].clone()\n",
        "\n",
        "    return batch\n",
        "\n",
        "\"\"\""
      ]
    },
    {
      "cell_type": "markdown",
      "metadata": {
        "id": "71dEjjtGmtuH"
      },
      "source": [
        "Reminder your code must have the same loss curve over 60 steps or so."
      ]
    },
    {
      "cell_type": "code",
      "execution_count": 13,
      "metadata": {
        "colab": {
          "base_uri": "https://localhost:8080/",
          "height": 74
        },
        "id": "BV2WK_wEDtUn",
        "outputId": "cfd3f566-c957-49e5-da98-372d3809935e"
      },
      "outputs": [
        {
          "output_type": "execute_result",
          "data": {
            "text/plain": [
              "'trainer = SFTTrainer(\\n    model=model,\\n    train_dataset=dataset,\\n    data_collator=custom_data_collator,\\n    args=SFTConfig(\\n        per_device_train_batch_size=2,\\n        gradient_accumulation_steps=4,\\n        warmup_steps=1,\\n        max_steps=10,\\n        logging_steps=1,\\n        output_dir=\"outputs\",\\n        seed=3407,\\n        max_seq_length=max_seq_length,\\n        fp16=True,\\n        bf16=False,\\n        report_to=\"none\",\\n        dataset_num_proc=4,\\n        remove_unused_columns=False,\\n        dataloader_num_workers=0,\\n    ),\\n)\\n\\n\\ntrainer.train()'"
            ],
            "application/vnd.google.colaboratory.intrinsic+json": {
              "type": "string"
            }
          },
          "metadata": {},
          "execution_count": 13
        }
      ],
      "source": [
        "\"\"\"trainer = SFTTrainer(\n",
        "    model=model,\n",
        "    train_dataset=dataset,\n",
        "    data_collator=custom_data_collator,\n",
        "    args=SFTConfig(\n",
        "        per_device_train_batch_size=2,\n",
        "        gradient_accumulation_steps=4,\n",
        "        warmup_steps=1,\n",
        "        max_steps=10,\n",
        "        logging_steps=1,\n",
        "        output_dir=\"outputs\",\n",
        "        seed=3407,\n",
        "        max_seq_length=max_seq_length,\n",
        "        fp16=True,\n",
        "        bf16=False,\n",
        "        report_to=\"none\",\n",
        "        dataset_num_proc=4,\n",
        "        remove_unused_columns=False,\n",
        "        dataloader_num_workers=0,\n",
        "    ),\n",
        ")\n",
        "\n",
        "\n",
        "trainer.train()\"\"\""
      ]
    },
    {
      "cell_type": "code",
      "execution_count": 14,
      "metadata": {
        "id": "Mnm9AlVvpPhb"
      },
      "outputs": [],
      "source": [
        "# del model\n",
        "import gc\n",
        "gc.collect()\n",
        "torch.cuda.empty_cache()"
      ]
    },
    {
      "cell_type": "markdown",
      "source": [
        "## Submission\n",
        "I tried to make it work by changing parameters on the high level, but did not dive deep into implementing it because honestly, I was more interested in the Triton kernel (Challenge A)."
      ],
      "metadata": {
        "id": "LTejGO4tR-hf"
      }
    },
    {
      "cell_type": "code",
      "source": [
        "def scoring():\n",
        "    global final_score\n",
        "    print(\"❌ Unsuccessful Attempt: B_score = 0\")\n",
        "    print(f\"Final Score: {final_score}\")\n",
        "scoring()"
      ],
      "metadata": {
        "colab": {
          "base_uri": "https://localhost:8080/"
        },
        "id": "7d7kzPOBSAU9",
        "outputId": "a70819b1-5e62-4865-c52e-dddf784f63c9"
      },
      "execution_count": 15,
      "outputs": [
        {
          "output_type": "stream",
          "name": "stdout",
          "text": [
            "❌ Unsuccessful Attempt: B_score = 0\n",
            "Final Score: 14\n"
          ]
        }
      ]
    },
    {
      "cell_type": "markdown",
      "metadata": {
        "id": "5vIg_ZjYt1Tq"
      },
      "source": [
        "## Marking Criteria for B) Max points = 10\n",
        "```python\n",
        "if attemped_B:\n",
        "    B_score = 0\n",
        "    if FSDP2_works_with_QLoRA:\n",
        "        if torch_compile_works: B_score += 5\n",
        "        else: B_score += 3\n",
        "        if uses_part_A_and_single_kernel_and_faster: B_score += 3\n",
        "        elif uses_torchAO:\n",
        "            if torchAO_slower_than_BnB: B_score -= 3\n",
        "    elif TP_or_PP_with_QLoRA:\n",
        "        if zero_bubble: B_score += 3\n",
        "        else: B_score += 2\n",
        "    elif FSDP1_works_with_QLoRA:\n",
        "        B_score += 1\n",
        "    if kaggle_notebook_2_tesla_t4_example:\n",
        "        B_score += 2\n",
        "    else:\n",
        "        B_score = 0\n",
        "    final_score += B_score\n",
        "else:\n",
        "    final_score -= 2\n",
        "```"
      ]
    },
    {
      "cell_type": "markdown",
      "metadata": {
        "id": "pukEsR2YnIHQ"
      },
      "source": [
        "---\n",
        "---\n",
        "---\n",
        "<a name=\"COMPILE\"></a>\n",
        "## C) Make `torch.compile` work without graph breaks for QLoRA [Difficulty: Easy to Medium] [Max points: 9]\n",
        "\n",
        "1. Goal: Write a single Python script like task B), except the goal is to `torch.compile` all modules if possible.\n",
        "\n",
        "2. There must NOT be graph breaks, and excessive re-compilations should not be seen.\n",
        "\n",
        "3. You should have say max 30 compilations. Over 60 is definitely wrong.\n",
        "\n",
        "4. The loss must match with the non compiled module.\n",
        "\n",
        "5. Utilize patching as much as possible.\n",
        "\n",
        "6. Think about which areas might need disabling for compilation. Think about regional compilation. How do we compile sections efficiently?\n",
        "\n",
        "7. Log memory / VRAM usage, and monitor speedups as well.\n",
        "\n",
        "8. Must work for QLoRA.\n",
        "\n",
        "We provided a script below, and showcased how to detect if graph breaks are seen. We also torch compiled the MLP for Llama:"
      ]
    },
    {
      "cell_type": "markdown",
      "source": [
        "### Again, commenting out Challenge C as I did not attempt it."
      ],
      "metadata": {
        "id": "YFEOgiB_XrQG"
      }
    },
    {
      "cell_type": "code",
      "execution_count": 16,
      "metadata": {
        "id": "QFOXncAVNqmK",
        "colab": {
          "base_uri": "https://localhost:8080/",
          "height": 74
        },
        "outputId": "0a5fb4ae-aec1-4f4b-dcbc-1430b8eb43ee"
      },
      "outputs": [
        {
          "output_type": "execute_result",
          "data": {
            "text/plain": [
              "'import torch\\ntorch_compile_options = torch_compile_options = {\\n    \"epilogue_fusion\"   : True,\\n    \"max_autotune\"      : True,\\n    \"shape_padding\"     : True,\\n    \"trace.enabled\"     : True,\\n    \"triton.cudagraphs\" : False,\\n}\\n\\n@torch.compile(fullgraph = False, dynamic = True, options = torch_compile_options)\\ndef compiled_llama_mlp(self, x):\\n    down_proj = self.down_proj(self.act_fn(self.gate_proj(x)) * self.up_proj(x))\\n    return down_proj\\n\\nimport transformers.models.llama.modeling_llama\\ntransformers.models.llama.modeling_llama.LlamaMLP.forward = compiled_llama_mlp'"
            ],
            "application/vnd.google.colaboratory.intrinsic+json": {
              "type": "string"
            }
          },
          "metadata": {},
          "execution_count": 16
        }
      ],
      "source": [
        "\"\"\"import torch\n",
        "torch_compile_options = torch_compile_options = {\n",
        "    \"epilogue_fusion\"   : True,\n",
        "    \"max_autotune\"      : True,\n",
        "    \"shape_padding\"     : True,\n",
        "    \"trace.enabled\"     : True,\n",
        "    \"triton.cudagraphs\" : False,\n",
        "}\n",
        "\n",
        "@torch.compile(fullgraph = False, dynamic = True, options = torch_compile_options)\n",
        "def compiled_llama_mlp(self, x):\n",
        "    down_proj = self.down_proj(self.act_fn(self.gate_proj(x)) * self.up_proj(x))\n",
        "    return down_proj\n",
        "\n",
        "import transformers.models.llama.modeling_llama\n",
        "transformers.models.llama.modeling_llama.LlamaMLP.forward = compiled_llama_mlp\"\"\""
      ]
    },
    {
      "cell_type": "code",
      "execution_count": 17,
      "metadata": {
        "colab": {
          "base_uri": "https://localhost:8080/",
          "height": 111
        },
        "id": "WmoQzMDzm1zL",
        "outputId": "252dc0db-0201-40c1-d58d-05c0c5981b78"
      },
      "outputs": [
        {
          "output_type": "execute_result",
          "data": {
            "text/plain": [
              "'from transformers import AutoModelForCausalLM, AutoTokenizer, BitsAndBytesConfig\\nfrom peft import get_peft_model, LoraConfig, TaskType\\nos.environ[\"HF_HUB_ENABLE_HF_TRANSFER\"] = \"1\"\\nos.environ[\"CUDA_VISIBLE_DEVICES\"] = \"0,1\"\\nos.environ[\"PYTORCH_CUDA_ALLOC_CONF\"] =     \"expandable_segments:True,\"    \"roundup_power2_divisions:[32:256,64:128,256:64,>:32]\"\\n\\nmax_seq_length = 1024\\ntorch.set_default_dtype(torch.float16)\\nmodel_name = \"unsloth/Llama-3.2-1B-Instruct-bnb-4bit\"\\ndtype = torch.float16\\nbnb_config = BitsAndBytesConfig(\\n    load_in_4bit              = True,\\n    bnb_4bit_use_double_quant = True,\\n    bnb_4bit_quant_type       = \"nf4\",\\n    bnb_4bit_compute_dtype    = dtype,\\n)\\n\\nmodel = AutoModelForCausalLM.from_pretrained(\\n    model_name,\\n    device_map = \"auto\",\\n    attn_implementation = \"sdpa\",\\n    quantization_config = bnb_config,\\n)\\ntokenizer = AutoTokenizer.from_pretrained(model_name)\\ntokenizer.padding_side = \"right\"\\n\\nlora_config = LoraConfig(\\n    r = 32,\\n    lora_alpha = 64,\\n    target_modules = [\"q_proj\", \"k_proj\", \"v_proj\", \"o_proj\",\\n                      \"gate_proj\", \"up_proj\", \"down_proj\"],\\n    lora_dropout = 0,\\n    bias = \"none\",\\n    task_type = TaskType.CAUSAL_LM,\\n)\\n\\n# Get LoRA and setup model\\nmodel = get_peft_model(model, lora_config)\\nwith torch.no_grad():\\n    for name, param in model.named_parameters():\\n        if \".lora_A.\" in name or \".lora_B.\" in name: param.requires_grad_(True)\\n        else: param.requires_grad_(False)\\n\\n# Currently GC will cause torch.compile to be disabled, so disable it\\n# model.gradient_checkpointing_enable()\\nmodel.enable_input_require_grads()\\n\\n# Get dataset\\nfrom datasets import load_dataset\\nfrom trl import SFTTrainer, SFTConfig\\nurl = \"https://huggingface.co/datasets/laion/OIG/resolve/main/unified_chip2.jsonl\"\\ndataset = load_dataset(\"json\", data_files = {\"train\" : url}, split = \"train[:10%]\")'"
            ],
            "application/vnd.google.colaboratory.intrinsic+json": {
              "type": "string"
            }
          },
          "metadata": {},
          "execution_count": 17
        }
      ],
      "source": [
        "\"\"\"from transformers import AutoModelForCausalLM, AutoTokenizer, BitsAndBytesConfig\n",
        "from peft import get_peft_model, LoraConfig, TaskType\n",
        "os.environ[\"HF_HUB_ENABLE_HF_TRANSFER\"] = \"1\"\n",
        "os.environ[\"CUDA_VISIBLE_DEVICES\"] = \"0,1\"\n",
        "os.environ[\"PYTORCH_CUDA_ALLOC_CONF\"] = \\\n",
        "    \"expandable_segments:True,\"\\\n",
        "    \"roundup_power2_divisions:[32:256,64:128,256:64,>:32]\"\n",
        "\n",
        "max_seq_length = 1024\n",
        "torch.set_default_dtype(torch.float16)\n",
        "model_name = \"unsloth/Llama-3.2-1B-Instruct-bnb-4bit\"\n",
        "dtype = torch.float16\n",
        "bnb_config = BitsAndBytesConfig(\n",
        "    load_in_4bit              = True,\n",
        "    bnb_4bit_use_double_quant = True,\n",
        "    bnb_4bit_quant_type       = \"nf4\",\n",
        "    bnb_4bit_compute_dtype    = dtype,\n",
        ")\n",
        "\n",
        "model = AutoModelForCausalLM.from_pretrained(\n",
        "    model_name,\n",
        "    device_map = \"auto\",\n",
        "    attn_implementation = \"sdpa\",\n",
        "    quantization_config = bnb_config,\n",
        ")\n",
        "tokenizer = AutoTokenizer.from_pretrained(model_name)\n",
        "tokenizer.padding_side = \"right\"\n",
        "\n",
        "lora_config = LoraConfig(\n",
        "    r = 32,\n",
        "    lora_alpha = 64,\n",
        "    target_modules = [\"q_proj\", \"k_proj\", \"v_proj\", \"o_proj\",\n",
        "                      \"gate_proj\", \"up_proj\", \"down_proj\"],\n",
        "    lora_dropout = 0,\n",
        "    bias = \"none\",\n",
        "    task_type = TaskType.CAUSAL_LM,\n",
        ")\n",
        "\n",
        "# Get LoRA and setup model\n",
        "model = get_peft_model(model, lora_config)\n",
        "with torch.no_grad():\n",
        "    for name, param in model.named_parameters():\n",
        "        if \".lora_A.\" in name or \".lora_B.\" in name: param.requires_grad_(True)\n",
        "        else: param.requires_grad_(False)\n",
        "\n",
        "# Currently GC will cause torch.compile to be disabled, so disable it\n",
        "# model.gradient_checkpointing_enable()\n",
        "model.enable_input_require_grads()\n",
        "\n",
        "# Get dataset\n",
        "from datasets import load_dataset\n",
        "from trl import SFTTrainer, SFTConfig\n",
        "url = \"https://huggingface.co/datasets/laion/OIG/resolve/main/unified_chip2.jsonl\"\n",
        "dataset = load_dataset(\"json\", data_files = {\"train\" : url}, split = \"train[:10%]\")\"\"\""
      ]
    },
    {
      "cell_type": "markdown",
      "metadata": {
        "id": "TbVNGNQ5LlpJ"
      },
      "source": [
        "We provide full logging for `torch.compile` like below:"
      ]
    },
    {
      "cell_type": "code",
      "execution_count": 18,
      "metadata": {
        "id": "EsekFGdsK5hZ",
        "colab": {
          "base_uri": "https://localhost:8080/",
          "height": 74
        },
        "outputId": "eab5f5b7-1782-41b2-aaef-b79d5b9075b7"
      },
      "outputs": [
        {
          "output_type": "execute_result",
          "data": {
            "text/plain": [
              "'# Must show all graph breaks are not seen with torch.compile\\nimport os\\nos.environ[\"TORCHDYNAMO_VERBOSE\"] = \"1\"\\nos.environ[\"TORCHINDUCTOR_FORCE_DISABLE_CACHES\"] = \"1\"\\nos.environ[\"TORCHINDUCTOR_COMPILE_THREADS\"] = \"1\"\\n\\nimport logging\\ntorch._inductor.config.debug = True\\ntorch._logging.set_logs(\\n    dynamo = logging.WARN,\\n    inductor = logging.WARN,\\n    graph_breaks = True,\\n    recompiles = True,\\n    recompiles_verbose = True,\\n    compiled_autograd_verbose = True,\\n    # aot_joint_graph = True, # Enable for more logs\\n    # aot_graphs = True,\\n)\\ntorch._dynamo.config.verbose = True\\ntorch._dynamo.config.suppress_errors = False'"
            ],
            "application/vnd.google.colaboratory.intrinsic+json": {
              "type": "string"
            }
          },
          "metadata": {},
          "execution_count": 18
        }
      ],
      "source": [
        "\"\"\"# Must show all graph breaks are not seen with torch.compile\n",
        "import os\n",
        "os.environ[\"TORCHDYNAMO_VERBOSE\"] = \"1\"\n",
        "os.environ[\"TORCHINDUCTOR_FORCE_DISABLE_CACHES\"] = \"1\"\n",
        "os.environ[\"TORCHINDUCTOR_COMPILE_THREADS\"] = \"1\"\n",
        "\n",
        "import logging\n",
        "torch._inductor.config.debug = True\n",
        "torch._logging.set_logs(\n",
        "    dynamo = logging.WARN,\n",
        "    inductor = logging.WARN,\n",
        "    graph_breaks = True,\n",
        "    recompiles = True,\n",
        "    recompiles_verbose = True,\n",
        "    compiled_autograd_verbose = True,\n",
        "    # aot_joint_graph = True, # Enable for more logs\n",
        "    # aot_graphs = True,\n",
        ")\n",
        "torch._dynamo.config.verbose = True\n",
        "torch._dynamo.config.suppress_errors = False\"\"\""
      ]
    },
    {
      "cell_type": "markdown",
      "metadata": {
        "id": "7RdragY7P-dL"
      },
      "source": [
        "When we execute the code below, we can see graph breaks - remove them."
      ]
    },
    {
      "cell_type": "code",
      "execution_count": 19,
      "metadata": {
        "colab": {
          "base_uri": "https://localhost:8080/",
          "height": 74
        },
        "id": "wHOBZGLepYgg",
        "outputId": "49966248-113e-42a1-b0d0-133fd3cc191e"
      },
      "outputs": [
        {
          "output_type": "execute_result",
          "data": {
            "text/plain": [
              "'trainer = SFTTrainer(\\n    model = model,\\n    train_dataset = dataset,\\n    processing_class = tokenizer,\\n    args = SFTConfig(\\n        per_device_train_batch_size = 1,\\n        gradient_accumulation_steps = 2,\\n        warmup_steps = 1,\\n        max_steps = 10,\\n        logging_steps = 1,\\n        output_dir = \"outputs\",\\n        seed = 3407,\\n        max_seq_length = max_seq_length,\\n        fp16 = model.get_input_embeddings().weight.dtype == torch.float16,\\n        bf16 = model.get_input_embeddings().weight.dtype == torch.bfloat16,\\n        report_to = \"none\", # For W&B\\n        dataset_num_proc = 4,\\n    ),\\n)\\ntrainer.train()'"
            ],
            "application/vnd.google.colaboratory.intrinsic+json": {
              "type": "string"
            }
          },
          "metadata": {},
          "execution_count": 19
        }
      ],
      "source": [
        "\"\"\"trainer = SFTTrainer(\n",
        "    model = model,\n",
        "    train_dataset = dataset,\n",
        "    processing_class = tokenizer,\n",
        "    args = SFTConfig(\n",
        "        per_device_train_batch_size = 1,\n",
        "        gradient_accumulation_steps = 2,\n",
        "        warmup_steps = 1,\n",
        "        max_steps = 10,\n",
        "        logging_steps = 1,\n",
        "        output_dir = \"outputs\",\n",
        "        seed = 3407,\n",
        "        max_seq_length = max_seq_length,\n",
        "        fp16 = model.get_input_embeddings().weight.dtype == torch.float16,\n",
        "        bf16 = model.get_input_embeddings().weight.dtype == torch.bfloat16,\n",
        "        report_to = \"none\", # For W&B\n",
        "        dataset_num_proc = 4,\n",
        "    ),\n",
        ")\n",
        "trainer.train()\"\"\""
      ]
    },
    {
      "cell_type": "markdown",
      "metadata": {
        "id": "KPbbwd5uDOL1"
      },
      "source": [
        "Log all your steps for debugging in a Colab (maybe this one). Edward's blog http://blog.ezyang.com/, Horace's blogs https://www.thonking.ai/, Slaying OOMs by Jane & Mark: ttps://www.youtube.com/watch?v=UvRl4ansfCg could be useful."
      ]
    },
    {
      "cell_type": "markdown",
      "source": [
        "## Submission\n",
        "I made an attempt with the help of LLMs, but it didn't work."
      ],
      "metadata": {
        "id": "9utDG1qvTi8N"
      }
    },
    {
      "cell_type": "code",
      "source": [
        "def scoring():\n",
        "    global final_score\n",
        "    print(\"❌ No Attempt: final_score -= 1\")\n",
        "    final_score -= 1\n",
        "    print(f\"Final Score: {final_score}\")\n",
        "scoring()"
      ],
      "metadata": {
        "colab": {
          "base_uri": "https://localhost:8080/"
        },
        "id": "Y_2U3ew0TiHv",
        "outputId": "24e9a639-158c-4ff7-9059-4d86bbb1f19b"
      },
      "execution_count": 20,
      "outputs": [
        {
          "output_type": "stream",
          "name": "stdout",
          "text": [
            "❌ No Attempt: final_score -= 1\n",
            "Final Score: 13\n"
          ]
        }
      ]
    },
    {
      "cell_type": "markdown",
      "metadata": {
        "id": "Wojg8SDjv3fu"
      },
      "source": [
        "## Marking Criteria for C) Max points = 9\n",
        "```python\n",
        "if attemped_C:\n",
        "    C_score = 0\n",
        "    if uses_flex_attention:\n",
        "        if dynamic_sequence_length_works: C_score += 3\n",
        "        else: C_score += 1\n",
        "    if no_torch_compile_BnB: C_score -= 2\n",
        "    elif use_part_A: C_score += 1\n",
        "    elif torch_compile_BnB: C_score += 1\n",
        "\n",
        "    if attention_compiled:\n",
        "        if excessive_recompilation: C_score -= 3\n",
        "        else: C_score += 2\n",
        "    if mlp_compiled:\n",
        "        if excessive_recompilation: C_score -= 3\n",
        "        C_score += 1\n",
        "\n",
        "    if not loss_compiled: C_score -= 1\n",
        "    if not layernorms_compiled: C_score -= 3\n",
        "\n",
        "    if max_autotune_triton_matmul:\n",
        "        if excessive_recompilation: C_score -= 2\n",
        "        else: C_score += 2\n",
        "    \n",
        "    final_score += C_score\n",
        "else:\n",
        "    final_score -= 1\n",
        "```"
      ]
    },
    {
      "cell_type": "markdown",
      "metadata": {
        "id": "cKcvFLCsQLtL"
      },
      "source": [
        "---\n",
        "---\n",
        "---\n",
        "<a name=\"ISSUES\"></a>\n",
        "## D) Help solve 🦥 Unsloth issues! [Difficulty: Varies] [Max points: 12]\n",
        "\n",
        "Head over to https://github.com/unslothai/unsloth, and find some issues which are still left standing / not resolved. The tag **currently fixing** might be useful.\n",
        "\n",
        "Each successfully accepted and solved issue will also have \\$100 to \\$1000 of bounties.\n",
        "\n",
        "It's best to attempt these features:\n",
        "\n",
        "* **<ins>Tool Calling</ins>** [Points = 1] Provide a tool calling Colab notebook and make it work inside of Unsloth. <ins>Bounty: \\$1000</ins>\n",
        "\n",
        "* **<ins>GGUF Vision support</ins>** [Points = 1] Allow exporting vision finetunes to GGUF directly. Llava and Qwen VL must work. <ins>Bounty: \\$500</ins>\n",
        "\n",
        "* **<ins>Refactor Attention</ins>** [Points = 2] Refactor and merge xformers, SDPA, flash-attn, flex-attention into a simpler interface. Must work seamlessly inside of Unsloth. <ins>Bounty: \\$350</ins>\n",
        "\n",
        "* **<ins>Windows support</ins>** [Points = 2] Allow `pip install unsloth` to work in Windows - Triton, Xformers, bitsandbytes should all function. You might need to edit `pyproject.toml`. Confirm it works. <ins>Bounty: \\$300</ins>\n",
        "\n",
        "* **<ins>Support Sequence Classification</ins>** [Points = 1] Create patching functions to patch over AutoModelForSequenceClassification, and allow finetuner to use AutoModelForSequenceClassification. <ins>Bounty: \\$200</ins>\n",
        "\n",
        "* **<ins>VLMs Data Collator</ins>** [Points = 1] Make text & image mixing work efficiently -so some inputs can be text only. Must work on Qwen, Llama, Pixtral. <ins>Bounty: \\$100</ins>\n",
        "\n",
        "* **<ins>VLMs image resizing</ins>** [Points = 1] Allow finetuner to specify maximum image size, or get it from the config.json file. Resize all images to specific size to reduce VRAM. <ins>Bounty: \\$100</ins>\n",
        "\n",
        "* **<ins>Support Flex Attention</ins>** [Points = 2] Allow dynamic sequence lengths without excessive recompilation. Make this work on SWAs and normal causal masks. Also packed sequence masks. <ins>Bounty: \\$100</ins>\n",
        "\n",
        "* **<ins>VLMs train only on completions</ins>** [Points = 1] Edit `train_on_responses_only` to allow it to work on VLMs. <ins>Bounty: \\$100</ins>\n"
      ]
    },
    {
      "cell_type": "markdown",
      "source": [
        "## Submission\n",
        "I did not attempt this."
      ],
      "metadata": {
        "id": "jhlgvoxgUArz"
      }
    },
    {
      "cell_type": "code",
      "source": [
        "def scoring():\n",
        "    print(\"❌ No Attempt.\")\n",
        "    print(f\"Final Score: {final_score}\")\n",
        "scoring()"
      ],
      "metadata": {
        "colab": {
          "base_uri": "https://localhost:8080/"
        },
        "id": "c2GL3lxdUEmT",
        "outputId": "1be7d947-610d-477e-9905-4a7ea88b310c"
      },
      "execution_count": 21,
      "outputs": [
        {
          "output_type": "stream",
          "name": "stdout",
          "text": [
            "❌ No Attempt.\n",
            "Final Score: 13\n"
          ]
        }
      ]
    },
    {
      "cell_type": "markdown",
      "metadata": {
        "id": "2VfYZjuMxujG"
      },
      "source": [
        "## Marking Criteria for D) Max points = 12\n",
        "```python\n",
        "if attemped_D:\n",
        "    D_score = 0\n",
        "    for subtask in subtasks:\n",
        "        if sucessfully_completed_subtask:\n",
        "            D_score += score_for_subtask\n",
        "    final_score += D_score\n",
        "```"
      ]
    },
    {
      "cell_type": "markdown",
      "metadata": {
        "id": "BrJzggfH2YEG"
      },
      "source": [
        "---\n",
        "---\n",
        "---\n",
        "<a name=\"MATH\"></a>\n",
        "## E) Memory Efficient Backprop [Difficulty: Medium to Hard] [Max points: 10]\n",
        "\n",
        "In LLMs, the last layer is a projection matrix to calculate the probabilities of the next token, ie $\\sigma(XW)$. However, if the vocabulary size is very large, say 128K, then the materialization of the logits causes VRAM spikes.\n",
        "\n",
        "For example, if the `bsz = 4, qlen = 4096, hd = 4096, vocab = 128K`, then the memory usage for the logits in bfloat16 would be 4GB. In the worst case, we might even need to upcast logits to float32, so 8GB is needed.\n",
        "\n",
        "In Unsloth, we utilize [Apple's Cut Cross Entropy Loss](https://machinelearning.apple.com/research/cut-your-losses) to reduce VRAM usage, by allowing a Triton kernel to create the logits on the fly to calculate the cross entropy loss. But this does not generalize well to other functions.\n",
        "\n",
        "Our goal is to generalize this ultimately, but directly creating logits on the fly will be hard. Instead, let's take a slightly less complex approach. Let's first review some stuff. We first notice that during the normal case after forming the intermediate logits for 2 batches, we then do a gather function to aggregate the intermediate results into a single column:\n",
        "$$\n",
        "\\begin{align}\n",
        "\\begin{bmatrix} x_1 \\\\ x_2 \\end{bmatrix} \\times W &= \\begin{bmatrix} x_1 W \\\\ x_2 W \\end{bmatrix} \\\\\n",
        "f \\bigg( \\begin{bmatrix} x_1 W \\\\ x_2 W \\end{bmatrix} \\bigg) &= \\begin{pmatrix} y_1 \\\\ y_2 \\end{pmatrix}\n",
        "\\end{align}\n",
        "$$\n",
        "\n",
        "So, if we can somehow skip the materialization of the intermediate logits, and just output the output of `f`, we can save a lot of VRAM!\n",
        "\n",
        "Notice during backpropagation we can use the chain rule:\n",
        "$$\n",
        "\\begin{align}\n",
        "\\frac{dL}{dX} &= \\frac{dL}{dy} \\frac{dy}{dX} ; \\frac{dL}{dW} = \\frac{dL}{dy} \\frac{dy}{dW} \\\\\n",
        "\\frac{dL}{dy} &= \\text{Downstream from backprop} \\\\\n",
        "\\frac{dy}{dX} &= W^T \\\\\n",
        "\\frac{dy}{dW} &= X^T \\\\\n",
        "\\frac{dL}{dX} &= \\frac{dL}{dy} W^T \\\\\n",
        "\\frac{dL}{dW} &= X^T \\frac{dL}{dy} \\\\\n",
        "\\end{align}\n",
        "$$\n",
        "\n",
        "If we simply compute the intermediate tensors on the fly via batches, say we do batch 1, then batch 2, we can reduce VRAM usage from 4GB to 2GB!\n",
        "\n",
        "$$\n",
        "\\begin{align}\n",
        "\\frac{dL}{dX} &= \\begin{bmatrix} \\frac{dL_1}{dy_1} W^T \\\\ \\frac{dL_2}{dy_2} W^T \\end{bmatrix} \\\\\n",
        "\\frac{dL}{dW} &= \\bigg( X_1^T \\frac{dL_1}{dy_1} + X_2^T  \\frac{dL_2}{dy_2} \\bigg)\n",
        "\\end{align}\n",
        "$$\n",
        "\n",
        "1. Your goal is to write a `torch.autograd.Function` with a `forward` and `backward` pass showcasing this memory efficient implementation.\n",
        "\n",
        "2. You must NOT hard code the derivatives - move the transformation function from the logits / intermeditate tensors to a smaller tensor as a separate function which can allow `autograd` to pass through it.\n",
        "\n",
        "3. As a hint, look at `torch.checkpoint` at https://github.com/pytorch/pytorch/blob/main/torch/utils/checkpoint.py. Also, don't forget about the upstream gradients! We need to multiply them to the current gradients!\n",
        "\n",
        "4. Make the Cross Entropy Loss work. You must show other functions working as well."
      ]
    },
    {
      "cell_type": "code",
      "execution_count": 22,
      "metadata": {
        "id": "Rp-IJIbv90f6"
      },
      "outputs": [],
      "source": [
        "def transformation_function(batch, linear, labels):\n",
        "    x = linear(batch).float() # Up projection to large space\n",
        "    from torch.nn import CrossEntropyLoss\n",
        "    down_projection_function = CrossEntropyLoss(reduction = \"mean\")\n",
        "    # Down projection to small space\n",
        "    loss = down_projection_function(x.view(-1, x.shape[-1]), labels.view(-1))\n",
        "    return loss\n",
        "\n",
        "def transformation_function_kld_loss(batch, linear, labels):\n",
        "    x = linear(batch).float() # Up projection to large space\n",
        "    from torch.nn import KLDivLoss\n",
        "    down_projection_function = KLDivLoss(reduction='batchmean')\n",
        "    # Down projection to small space\n",
        "    x_view = x.view(-1, x.shape[-1])\n",
        "    loss = down_projection_function(x_view, torch.nn.functional.one_hot(labels.view(-1), num_classes=x_view.shape[-1]).float())\n",
        "    return loss\n",
        "\n",
        "def transformation_function_mse_loss(batch, linear, labels):\n",
        "    x = linear(batch).float() # Up projection to large space\n",
        "    from torch.nn import MSELoss\n",
        "    down_projection_function = MSELoss()\n",
        "    # Down projection to small space\n",
        "    x_view = x.view(-1, x.shape[-1])\n",
        "    loss = down_projection_function(x_view, torch.nn.functional.one_hot(labels.view(-1), num_classes=x_view.shape[-1]).float())\n",
        "    return loss\n",
        "\n",
        "def standard_forward(X, linear, labels, transformation_fn):\n",
        "    return transformation_fn(X, linear, labels)\n",
        "\n",
        "\n",
        "\n",
        "class MemoryEfficientLinear(torch.autograd.Function):\n",
        "\n",
        "    @staticmethod\n",
        "    def forward(ctx, X, linear, labels, forward_function, chunk_size):\n",
        "\n",
        "        ctx.linear = linear\n",
        "        ctx.labels = labels\n",
        "        ctx.forward_function = forward_function\n",
        "        ctx.save_for_backward(X)\n",
        "        ctx.chunk_size = chunk_size\n",
        "\n",
        "        B, L = X.shape[0], X.shape[1]\n",
        "        flat_X = X.view(-1, X.shape[-1])\n",
        "        flat_labels = labels.view(-1)\n",
        "        total_tokens = flat_X.shape[0]\n",
        "        total_loss = 0.0\n",
        "\n",
        "        for i in range(0, total_tokens, chunk_size):\n",
        "            X_chunk = flat_X[i: i + chunk_size].detach()\n",
        "            labels_chunk = flat_labels[i: i + chunk_size]\n",
        "            with torch.no_grad():\n",
        "                loss_chunk = forward_function(X_chunk, linear, labels_chunk).to(X.device)\n",
        "            total_loss += loss_chunk * X_chunk.shape[0]\n",
        "\n",
        "        final_loss = total_loss / total_tokens\n",
        "        return final_loss\n",
        "\n",
        "    @staticmethod\n",
        "    def backward(ctx, d_loss):\n",
        "        X, = ctx.saved_tensors\n",
        "        labels = ctx.labels\n",
        "        linear = ctx.linear\n",
        "        forward_function = ctx.forward_function\n",
        "        chunk_size = ctx.chunk_size\n",
        "\n",
        "        flat_X = X.view(-1, X.shape[-1])\n",
        "        flat_labels = labels.view(-1)\n",
        "        total_tokens = flat_X.shape[0]\n",
        "\n",
        "        grad_flat_X = torch.zeros_like(flat_X)\n",
        "        grad_weight = torch.zeros_like(linear.weight)\n",
        "        grad_bias = torch.zeros_like(linear.bias)\n",
        "\n",
        "        with torch.enable_grad():\n",
        "            for i in range(0, total_tokens, chunk_size):\n",
        "                X_chunk = flat_X[i: i + chunk_size].detach().requires_grad_()\n",
        "                labels_chunk = flat_labels[i: i + chunk_size]\n",
        "                loss_chunk = forward_function(X_chunk, linear, labels_chunk)\n",
        "\n",
        "                grads = torch.autograd.grad(\n",
        "                    loss_chunk, (X_chunk, linear.weight, linear.bias),\n",
        "                    retain_graph=True, allow_unused=True\n",
        "                )\n",
        "                grad_X_chunk, grad_weight_chunk, grad_bias_chunk = grads\n",
        "                grad_flat_X[i: i + chunk_size] = grad_X_chunk * d_loss\n",
        "                if grad_weight_chunk is not None:\n",
        "                    grad_weight += grad_weight_chunk * d_loss\n",
        "                if grad_bias_chunk is not None:\n",
        "                    grad_bias += grad_bias_chunk * d_loss\n",
        "\n",
        "        grad_X = grad_flat_X.view_as(X)\n",
        "\n",
        "        if linear.weight.grad is None:\n",
        "            linear.weight.grad = grad_weight\n",
        "        else:\n",
        "            linear.weight.grad += grad_weight\n",
        "        if linear.bias.grad is None:\n",
        "            linear.bias.grad = grad_bias\n",
        "        else:\n",
        "            linear.bias.grad += grad_bias\n",
        "\n",
        "        return grad_X, None, None, None, None\n"
      ]
    },
    {
      "cell_type": "code",
      "source": [
        "def testing(bsz, qlen, hd, vocab, input_size, chunk_size, transformation_fn=transformation_function):\n",
        "    torch.manual_seed(42)\n",
        "    device = torch.device('cuda')\n",
        "\n",
        "    standard_implementation_OOM = False\n",
        "    efficient_implementation_OOM = False\n",
        "\n",
        "    X_standard = torch.randn(bsz, qlen, hd, requires_grad=True, device=device)\n",
        "    X_memory   = X_standard.clone().detach().requires_grad_()\n",
        "    labels = torch.randint(0, vocab, (bsz, qlen), device=device)\n",
        "\n",
        "    # Two identical linear layers.\n",
        "    linear_standard = nn.Linear(hd, vocab, device=device)\n",
        "    linear_memory   = nn.Linear(hd, vocab, device=device)\n",
        "    linear_memory.load_state_dict(linear_standard.state_dict())\n",
        "\n",
        "    # Standard implementation.\n",
        "    try:\n",
        "        loss_standard = standard_forward(X_standard, linear_standard, labels, transformation_fn)\n",
        "        loss_standard.backward()\n",
        "\n",
        "    except torch.OutOfMemoryError:\n",
        "        standard_implementation_OOM = True\n",
        "\n",
        "        X_standard.grad = None\n",
        "        linear_standard.weight.grad = None\n",
        "        linear_standard.bias.grad = None\n",
        "        try:\n",
        "            loss_standard.grad = None\n",
        "            del(loss_standard)\n",
        "        except:\n",
        "            pass\n",
        "        del(X_standard)\n",
        "        del(linear_standard)\n",
        "        torch.cuda.empty_cache()\n",
        "\n",
        "\n",
        "    # Reset gradients before memory–efficient run.\n",
        "    X_memory.grad = None\n",
        "    linear_memory.weight.grad = None\n",
        "    linear_memory.bias.grad = None\n",
        "\n",
        "    # Memory–efficient implementation.\n",
        "    try:\n",
        "        loss_memory = MemoryEfficientLinear.apply(X_memory, linear_memory, labels, transformation_fn, chunk_size)\n",
        "        loss_memory.backward()\n",
        "\n",
        "    except torch.OutOfMemoryError:\n",
        "        efficient_implementation_OOM = True\n",
        "\n",
        "        X_memory.grad = None\n",
        "        linear_memory.weight.grad = None\n",
        "        linear_memory.bias.grad = None\n",
        "        try:\n",
        "            loss_memory.grad = None\n",
        "            del(loss_memory)\n",
        "        except:\n",
        "            pass\n",
        "        del(X_memory)\n",
        "        del(linear_memory)\n",
        "        torch.cuda.empty_cache()\n",
        "\n",
        "    print(f\"\\n----------- Run Summary for input size: {input_size} ----------------------\")\n",
        "    if not standard_implementation_OOM:\n",
        "        print(f\"✅ Standard implementation ran successfully for input size: {input_size}\")\n",
        "    else:\n",
        "        print(f\"❌ Standard implementation OutOfMemoryError for input_size: {input_size}\")\n",
        "    if not efficient_implementation_OOM:\n",
        "        print(f\"✅ Efficient implementation ran successfully for input size: {input_size}\")\n",
        "    else:\n",
        "        print(f\"❌ Efficient implementation OutOfMemoryError for input_size: {input_size}\")\n",
        "\n",
        "\n",
        "    if (standard_implementation_OOM == False) and (efficient_implementation_OOM == False):\n",
        "        grad_X_standard = X_standard.grad.clone()\n",
        "        grad_X_memory = X_memory.grad.clone()\n",
        "\n",
        "        print(f\"\\n------- Comparing Loss and Gradients for input size: {input_size} ------------\")\n",
        "\n",
        "        print(\"Standard Loss:                      \", loss_standard.item())\n",
        "        print(\"Memory Efficient Loss:              \", loss_memory.item())\n",
        "        print(\"Gradients equal (torch.allclose):   \", torch.allclose(grad_X_standard, grad_X_memory, atol=1e-4))\n",
        "        print(\"Max grad difference:                \", (grad_X_standard - grad_X_memory).abs().max().item())\n",
        "\n",
        "        X_standard.grad = None\n",
        "        linear_standard.weight.grad = None\n",
        "        linear_standard.bias.grad = None\n",
        "        loss_standard.grad = None\n",
        "        del(loss_standard)\n",
        "        del(X_standard)\n",
        "        del(linear_standard)\n",
        "        torch.cuda.empty_cache()\n",
        "        X_memory.grad = None\n",
        "        linear_memory.weight.grad = None\n",
        "        linear_memory.bias.grad = None\n",
        "        loss_memory.grad = None\n",
        "        del(loss_memory)\n",
        "        del(X_memory)\n",
        "        del(linear_memory)\n",
        "        torch.cuda.empty_cache()\n",
        "\n",
        "\n",
        "\n",
        "\n",
        "if __name__ == '__main__':\n",
        "    bsz, qlen, hd, vocab = 8, 4096, 4096, 64 * (2**10)\n",
        "    testing(bsz, qlen, hd, vocab, input_size='large', chunk_size=bsz*qlen//4)\n",
        "\n",
        "    bsz, qlen, hd, vocab = 4, 1024, 4096, 64 * (2**10)\n",
        "    testing(bsz, qlen, hd, vocab, input_size='small', chunk_size=bsz*qlen//4)\n",
        "\n",
        "    print(f\"\\n------- Running with KLD Loss ------------\")\n",
        "\n",
        "    testing(bsz, qlen, hd, vocab, input_size='small', chunk_size=bsz*qlen//4, transformation_fn=transformation_function_kld_loss)\n",
        "\n",
        "    print(f\"\\n------- Running with MSE Loss ------------\")\n",
        "\n",
        "    testing(bsz, qlen, hd, vocab, input_size='small', chunk_size=bsz*qlen//4, transformation_fn=transformation_function_mse_loss)\n",
        "\n",
        "    print(f\"\\n------- Running with chunk size = bsz*qlen//2 (default=bsz*qlen//4) ------------\")\n",
        "\n",
        "    testing(bsz, qlen, hd, vocab, input_size='small', chunk_size=bsz*qlen//2)"
      ],
      "metadata": {
        "colab": {
          "base_uri": "https://localhost:8080/"
        },
        "id": "hX0W6oAypeDz",
        "outputId": "9820e77e-1e1c-441a-cc12-130595389fee"
      },
      "execution_count": 23,
      "outputs": [
        {
          "output_type": "stream",
          "name": "stdout",
          "text": [
            "\n",
            "----------- Run Summary for input size: large ----------------------\n",
            "❌ Standard implementation OutOfMemoryError for input_size: large\n",
            "✅ Efficient implementation ran successfully for input size: large\n",
            "\n",
            "----------- Run Summary for input size: small ----------------------\n",
            "✅ Standard implementation ran successfully for input size: small\n",
            "✅ Efficient implementation ran successfully for input size: small\n",
            "\n",
            "------- Comparing Loss and Gradients for input size: small ------------\n",
            "Standard Loss:                       11.24808120727539\n",
            "Memory Efficient Loss:               11.248079299926758\n",
            "Gradients equal (torch.allclose):    True\n",
            "Max grad difference:                 1.1692042789945845e-05\n",
            "\n",
            "------- Running with KLD Loss ------------\n",
            "\n",
            "----------- Run Summary for input size: small ----------------------\n",
            "✅ Standard implementation ran successfully for input size: small\n",
            "✅ Efficient implementation ran successfully for input size: small\n",
            "\n",
            "------- Comparing Loss and Gradients for input size: small ------------\n",
            "Standard Loss:                       -0.00895950198173523\n",
            "Memory Efficient Loss:               -0.00895950198173523\n",
            "Gradients equal (torch.allclose):    True\n",
            "Max grad difference:                 1.1444091796875e-05\n",
            "\n",
            "------- Running with MSE Loss ------------\n",
            "\n",
            "----------- Run Summary for input size: small ----------------------\n",
            "✅ Standard implementation ran successfully for input size: small\n",
            "✅ Efficient implementation ran successfully for input size: small\n",
            "\n",
            "------- Comparing Loss and Gradients for input size: small ------------\n",
            "Standard Loss:                       0.33334845304489136\n",
            "Memory Efficient Loss:               0.33334845304489136\n",
            "Gradients equal (torch.allclose):    True\n",
            "Max grad difference:                 6.700225299027807e-07\n",
            "\n",
            "------- Running with chunk size = bsz*qlen//2 (default=bsz*qlen//4) ------------\n",
            "\n",
            "----------- Run Summary for input size: small ----------------------\n",
            "✅ Standard implementation ran successfully for input size: small\n",
            "✅ Efficient implementation ran successfully for input size: small\n",
            "\n",
            "------- Comparing Loss and Gradients for input size: small ------------\n",
            "Standard Loss:                       11.24808120727539\n",
            "Memory Efficient Loss:               11.248082160949707\n",
            "Gradients equal (torch.allclose):    True\n",
            "Max grad difference:                 3.897387614415493e-06\n"
          ]
        }
      ]
    },
    {
      "cell_type": "markdown",
      "metadata": {
        "id": "_lIczyn8-2-o"
      },
      "source": [
        "To test your implementation, it should not OOM for large inputs. Also, check the gradient is actually equivalent via `torch.allclose` in the normal approach."
      ]
    },
    {
      "cell_type": "markdown",
      "source": [
        "### Llama 3.2 1B Training Loss"
      ],
      "metadata": {
        "id": "6wup2dahNw73"
      }
    },
    {
      "cell_type": "code",
      "source": [
        "# The following are the loss values for 60 epochs of training Llama 3.2 1B with the memory efficient backprop implementation.\n",
        "\n",
        "# Colab Link: https://colab.research.google.com/drive/1kQVHBcjPW6sRseSDuLDKDCTE1fTXQeUL?usp=sharing\n",
        "# Github Link: https://github.com/RohitNagraj/UnslothPuzzles/blob/main/resources/q5/Llama3_2_1B_memory_efficient.ipynb\n",
        "\n",
        "llama32_1b_training_loss_memory_efficient = [\n",
        "    0.877800, 0.965500, 1.159700, 1.032800, 0.826000, 1.079700, 0.750300,\n",
        "    1.134900, 1.015500, 0.884800, 1.010100, 1.255500, 1.073200, 0.745800,\n",
        "    1.009500, 0.740900, 1.143400, 0.983700, 0.885700, 1.014700, 1.005600,\n",
        "    0.987100, 1.146500, 0.995700, 0.758100, 0.942400, 0.965600, 0.902200,\n",
        "    1.254500, 1.179900, 0.818600, 0.631500, 0.752300, 0.700100, 0.888100,\n",
        "    1.101400, 1.022200, 0.814100, 0.886500, 1.123000, 0.851100, 1.182700,\n",
        "    0.875400, 0.958200, 0.866900, 0.984500, 0.892200, 0.760800, 1.130800,\n",
        "    1.134600, 0.530900, 1.067400, 1.509600, 0.795700, 1.226700, 1.274100,\n",
        "    0.854800, 0.995400, 0.865100, 1.057700\n",
        "]\n",
        "\n",
        "# The following are the loss values for 60 epochs of training Llama 3.2 1B with the no changes to the model.\n",
        "\n",
        "# Colab Link: https://colab.research.google.com/drive/1cSNoqCUD95f4aEyKOrFDPm1UQ6xl2y-1?usp=sharing\n",
        "# Github Link: https://github.com/RohitNagraj/UnslothPuzzles/blob/main/resources/q5/Llama3_2_1B_standard.ipynb\n",
        "\n",
        "llama32_1b_training_loss_standard = [\n",
        "    0.877800, 0.965500, 1.159700, 1.032700, 0.826000, 1.079600, 0.750400,\n",
        "    1.135000, 1.015500, 0.884800, 1.010100, 1.255500, 1.073200, 0.745800,\n",
        "    1.009500, 0.740900, 1.143400, 0.983700, 0.885700, 1.014700, 1.005600,\n",
        "    0.987000, 1.146500, 0.995800, 0.758200, 0.942400, 0.965500, 0.902200,\n",
        "    1.254400, 1.179900, 0.818600, 0.631500, 0.752300, 0.700100, 0.888100,\n",
        "    1.101600, 1.022200, 0.814100, 0.886400, 1.123100, 0.851100, 1.182700,\n",
        "    0.875400, 0.958200, 0.866900, 0.984400, 0.892300, 0.760800, 1.130900,\n",
        "    1.134600, 0.530800, 1.067300, 1.509600, 0.795600, 1.226700, 1.274000,\n",
        "    0.854800, 0.995300, 0.865100, 1.057800\n",
        "]"
      ],
      "metadata": {
        "id": "_ZrJogDLNwHk"
      },
      "execution_count": 24,
      "outputs": []
    },
    {
      "cell_type": "code",
      "source": [
        "import matplotlib.pyplot as plt\n",
        "\n",
        "steps1 = list(range(1, len(llama32_1b_training_loss_memory_efficient) + 1))\n",
        "steps2 = list(range(1, len(llama32_1b_training_loss_standard) + 1))\n",
        "\n",
        "plt.figure(figsize=(10, 5))\n",
        "plt.plot(steps1, llama32_1b_training_loss_memory_efficient, marker='o', label='Memory Efficient Linear Layer')\n",
        "plt.plot(steps2, llama32_1b_training_loss_standard, marker='s', label='Standard Linear Layer')\n",
        "plt.xlabel('Step')\n",
        "plt.ylabel('Training Loss')\n",
        "plt.title('Training Loss Comparison')\n",
        "plt.legend()\n",
        "plt.grid(True)\n",
        "plt.show()"
      ],
      "metadata": {
        "colab": {
          "base_uri": "https://localhost:8080/",
          "height": 487
        },
        "id": "t44GKaZAN1zy",
        "outputId": "755c3d56-151a-48d8-a1a8-54662aaa3f73"
      },
      "execution_count": 25,
      "outputs": [
        {
          "output_type": "display_data",
          "data": {
            "text/plain": [
              "<Figure size 1000x500 with 1 Axes>"
            ],
            "image/png": "[encoded data removed]"
          },
          "metadata": {}
        }
      ]
    },
    {
      "cell_type": "markdown",
      "source": [
        "**Observe that the lines are exactly matching, meaning the losses are the exact same.**"
      ],
      "metadata": {
        "id": "3CKeHO77YZ2T"
      }
    },
    {
      "cell_type": "markdown",
      "source": [
        "### GRPO Memory Efficient Linear\n",
        "I replaced the lm head in the Unsloth GRPO training notebook and ran the training for 1 iteration. Then compared the output logits for fake input data, using torch.allclose."
      ],
      "metadata": {
        "id": "CLg-Lx4GPLZG"
      }
    },
    {
      "cell_type": "code",
      "source": [
        "# Memory efficient implementation logits\n",
        "\n",
        "# Colab: https://colab.research.google.com/drive/1W6ybjwvgdm3zUrq3jFD54tFJOA-lfIcz?usp=sharing\n",
        "# Github: https://github.com/RohitNagraj/UnslothPuzzles/blob/main/resources/q5/Llama_3_1_8B_GRPO_Memory_Efficient.ipynb\n",
        "\n",
        "memory_efficient_logits = torch.load('resources/q5/logits_memory_efficient.pt', weights_only=False)\n",
        "\n",
        "# Standard implementation logits\n",
        "\n",
        "# Colab: https://colab.research.google.com/drive/1WvcrYgtNubYCB1S-EJg4qJEB5ysJ7K3m?usp=sharing\n",
        "# Github: https://github.com/RohitNagraj/UnslothPuzzles/blob/main/resources/q5/Llama_3_1_8B_GRPO_Standard.ipynb\n",
        "\n",
        "standard_logits = torch.load('resources/q5/logits_standard.pt', weights_only=False)\n",
        "\n",
        "print(\"Torch.allclose: \", torch.allclose(memory_efficient_logits.logits, standard_logits.logits))"
      ],
      "metadata": {
        "colab": {
          "base_uri": "https://localhost:8080/"
        },
        "id": "1SpkJ9wyPKpY",
        "outputId": "0771c70a-a431-4355-86a8-0f7657531e29"
      },
      "execution_count": 28,
      "outputs": [
        {
          "output_type": "stream",
          "name": "stdout",
          "text": [
            "Torch.allclose:  True\n"
          ]
        }
      ]
    },
    {
      "cell_type": "code",
      "source": [
        "def scoring():\n",
        "    global final_score\n",
        "    E_score = 0\n",
        "\n",
        "    print(f\"✅ VRAM 50% reduction: E_score += 2\")\n",
        "    E_score += 2\n",
        "\n",
        "    print(f\"✅ Show cross-entropy loss works: E_score += 1\")\n",
        "    E_score += 1\n",
        "\n",
        "    print(f\"✅ Show other loss functions works: E_score += 1\")\n",
        "    E_score += 1\n",
        "\n",
        "    print(f\"✅ Allow dynamic chunk sizes (See the forward definition of MemoryEfficientLinear): E_score += 1\")\n",
        "    E_score += 1\n",
        "\n",
        "    print(f\"✅ Llama 3.2 1B training loss values match across all steps: E_score += 1\")\n",
        "    E_score += 1\n",
        "\n",
        "    print(f\"❌ GRPO memory efficient loss working: E_score += 4\")\n",
        "    # E_score += 4\n",
        "\n",
        "    final_score += E_score\n",
        "\n",
        "    print(f\"Final score: {final_score}\")\n",
        "scoring()"
      ],
      "metadata": {
        "id": "XFtBQWwD-SrM",
        "colab": {
          "base_uri": "https://localhost:8080/"
        },
        "outputId": "bb4920f8-e0d5-418b-df52-4b959325c2ea"
      },
      "execution_count": 29,
      "outputs": [
        {
          "output_type": "stream",
          "name": "stdout",
          "text": [
            "✅ VRAM 50% reduction: E_score += 2\n",
            "✅ Show cross-entropy loss works: E_score += 1\n",
            "✅ Show other loss functions works: E_score += 1\n",
            "✅ Allow dynamic chunk sizes (See the forward definition of MemoryEfficientLinear): E_score += 1\n",
            "✅ Llama 3.2 1B training loss values match across all steps: E_score += 1\n",
            "❌ GRPO memory efficient loss working: E_score += 4\n",
            "Final score: 19\n"
          ]
        }
      ]
    },
    {
      "cell_type": "markdown",
      "metadata": {
        "id": "gVZ414R2Dk8M"
      },
      "source": [
        "## Marking Criteria for E) Max points = 10\n",
        "```python\n",
        "if attemped_E:\n",
        "    E_score = 0\n",
        "    if VRAM_50_percent_reduction: E_score += 2\n",
        "    if remove_float32_upcast: E_score = 0\n",
        "    if show_ce_loss_works: E_score += 1\n",
        "    if show_other_functions_work: E_score += 1\n",
        "    if hardcoded_gradients: E_score = 0\n",
        "    if allows_dynamic_chunk_sizes: E_score += 1\n",
        "    if llama_1B_training_loss_matches: E_score += 1\n",
        "    else: E_score = 0\n",
        "    if GRPO_memory_efficient_linear_works: E_score += 4\n",
        "    final_score += E_score\n",
        "else:\n",
        "    final_score += 0\n",
        "```"
      ]
    },
    {
      "cell_type": "markdown",
      "metadata": {
        "id": "kvrVlTmUN8nV"
      },
      "source": [
        "---\n",
        "---\n",
        "---\n",
        "<a name=\"SUBMISSION\"></a>\n",
        "## Submission Steps\n",
        "\n",
        "1. All code should be in a public Github (Apache 2 Licensed)\n",
        "2. Kaggle notebooks and Colab notebooks should be linked in the README, and can be accessible through Colab / Kaggle.\n",
        "3. If attaching notebooks, must attach fully run ones - do not just add a notebook without running it. Kaggle notebook must be public, and run.\n",
        "4. Submit the Github to https://forms.gle/crSYnsGq3t1ck5TB9 If you want to send a private repo, please add me as a Github collaborate @danielhanchen\n",
        "5. Provide screenshots, graphs, plots, etc especially for training loss curves.\n",
        "6. We will comment and respond inside your Github repo. There will get 1 interview as well as a final step!\n",
        "\n",
        "### Clarifications:\n",
        "1. We'll compensate you if we interview you but don't hire you\n",
        "2. \\$100-\\$1000 bounties for Task 4\n",
        "3. Submissions must be Apache-2 licensed\n",
        "4. Task 4 involves solving Github issues for OSS Unsloth\n",
        "5. No time limit: rolling basis\n",
        "6. US based preferred"
      ]
    }
  ],
  "metadata": {
    "accelerator": "GPU",
    "colab": {
      "gpuType": "T4",
      "provenance": []
    },
    "kernelspec": {
      "display_name": "Python 3",
      "name": "python3"
    },
    "language_info": {
      "name": "python"
    }
  },
  "nbformat": 4,
  "nbformat_minor": 0
}